{
 "cells": [
  {
   "cell_type": "markdown",
   "metadata": {},
   "source": [
    "\n",
    "# GitHub PRACTICE SHEET-2(UDF)"
   ]
  },
  {
   "attachments": {
    "image.png": {
     "image/png": "[encoded data removed]"
    }
   },
   "cell_type": "markdown",
   "metadata": {},
   "source": [
    "#Q1: CREATE A FUNCTION TO FIND THE FOLLOWING: IF THE BASE OF TRIANGLE IS 3 CM LONG AND ITS EQUIVALENT TRIANGLE AND THE RADIUS OF CIRCLE IS 1.5CM THEN FIND THE AREA OF TRIANGLE SHADED.\n",
    "#timeTaken:2hr 3min\n",
    "![image.png](attachment:image.png)\n"
   ]
  },
  {
   "cell_type": "code",
   "execution_count": 10,
   "metadata": {},
   "outputs": [
    {
     "data": {
      "text/plain": [
       "3.8971143170299736"
      ]
     },
     "execution_count": 10,
     "metadata": {},
     "output_type": "execute_result"
    }
   ],
   "source": [
    "import math\n",
    "def equilateral(b):\n",
    "    area= ((math.sqrt(3)/4)*(b**2))\n",
    "    return area #in cm^2\n",
    "equilateral(3)\n",
    "    "
   ]
  },
  {
   "cell_type": "code",
   "execution_count": 16,
   "metadata": {},
   "outputs": [
    {
     "data": {
      "text/plain": [
       "23.381999999999998"
      ]
     },
     "execution_count": 16,
     "metadata": {},
     "output_type": "execute_result"
    }
   ],
   "source": [
    "import math\n",
    "def triangles(value):\n",
    "    six = (3.897*value)#in cm^2\n",
    "    return six\n",
    "triangles(6)"
   ]
  },
  {
   "cell_type": "code",
   "execution_count": 18,
   "metadata": {},
   "outputs": [
    {
     "data": {
      "text/plain": [
       "7.0685834705770345"
      ]
     },
     "execution_count": 18,
     "metadata": {},
     "output_type": "execute_result"
    }
   ],
   "source": [
    "import math\n",
    "def circle(radius):\n",
    "    A =math.pi * radius**2 #in cm^2\n",
    "    return A\n",
    "circle(1.5)"
   ]
  },
  {
   "cell_type": "code",
   "execution_count": 19,
   "metadata": {},
   "outputs": [
    {
     "data": {
      "text/plain": [
       "16.311999999999998"
      ]
     },
     "execution_count": 19,
     "metadata": {},
     "output_type": "execute_result"
    }
   ],
   "source": [
    "def shadedA(a, r):\n",
    "    shaded = a - r\n",
    "    return shaded #in cm^2\n",
    "shadedA(23.38, 7.068)"
   ]
  },
  {
   "cell_type": "markdown",
   "metadata": {},
   "source": [
    "#Q2: CREATE A FUNCTION WHICH CAN READ A DICTIONARY OF YOUR FAMILY MEMBERS SUCH AS 5 MEMBERS. 1 ABBU, 1 AMMI, 2 BROTHERS, 1 SISTER. NOW FEED THIS DATA IN DICTIONARY IN TERMS OF NAME AND RELATIONS. THE UDF WILL ASK FINDRELATION( ), IN THIS YOU WILL ENTER BROTHER IT WILL RETURN THE NAMES OF TWO BROTHERS YOU HAVE INSERTED. IN CASE IF THE RELATION IS NOT FOUND IT WILL RETURN\"SORRY THE RELATION DOES NOT EXIST IN YOUR FAMILY.\n",
    "#timeTaken:39min\n"
   ]
  },
  {
   "cell_type": "code",
   "execution_count": 24,
   "metadata": {},
   "outputs": [
    {
     "data": {
      "text/plain": [
       "['Yasir', 'Ali']"
      ]
     },
     "execution_count": 24,
     "metadata": {},
     "output_type": "execute_result"
    }
   ],
   "source": [
    "family = {'abbu':'Zia', 'ammi':'Yasmeen', 'brothers':['Yasir', 'Ali'], 'sister': 'Izma'}\n",
    "def findrelation(family, relation):\n",
    "    if relation in family:\n",
    "        return family[relation]\n",
    "    else:\n",
    "        return 'Sorry the relation does not exist in your family'\n",
    "findrelation(family, 'brothers')\n"
   ]
  },
  {
   "attachments": {
    "image.png": {
     "image/png": "[encoded data removed]"
    }
   },
   "cell_type": "markdown",
   "metadata": {},
   "source": [
    "#Q3: CREATE A FUNCTION TO FIND THE FOLLOWING: IF THE BASE OF TRIANGLE IS 5 CM LONG AND ITS EQUIVALENT TRIANGLE AND THE RADIUS OF CIRCLE IS 2.25 CM THEN FIND THE AREA OF TRIANGLE SHADED.\n",
    "#timeTaken:37min\n",
    "\n",
    "![image.png](attachment:image.png)"
   ]
  },
  {
   "cell_type": "code",
   "execution_count": 20,
   "metadata": {},
   "outputs": [
    {
     "data": {
      "text/plain": [
       "15.904312808798327"
      ]
     },
     "execution_count": 20,
     "metadata": {},
     "output_type": "execute_result"
    }
   ],
   "source": [
    "import math\n",
    "def acircle(r):\n",
    "    area = math.pi * r**2 #in cm^2\n",
    "    return area\n",
    "acircle(2.25)"
   ]
  },
  {
   "cell_type": "markdown",
   "metadata": {},
   "source": [
    "#Q4: CREATE A FUNCTION THAT TAKES A LIST OF RANDON NUMBERS FROM USERS AND ADD ONLY THOSE WHICH ARE EVEN. IF ALL THE NUMBERS ARE ODD IT WILL RETURN SORRY NO EVEN NUMBER FOUND.\n",
    "#timeTaken:40min"
   ]
  },
  {
   "cell_type": "code",
   "execution_count": 40,
   "metadata": {},
   "outputs": [
    {
     "data": {
      "text/plain": [
       "'Sorry, no even number found.'"
      ]
     },
     "execution_count": 40,
     "metadata": {},
     "output_type": "execute_result"
    }
   ],
   "source": [
    "import math\n",
    "list = [3, 4, 7, 5, 8, 12, 18]\n",
    "sum = 0\n",
    "def numbers(lst):\n",
    "    for even in lst:\n",
    "        if (even%2)==0:\n",
    "            sum = sum + even\n",
    "            return sum\n",
    "        else:\n",
    "            return 'Sorry, no even number found.'\n",
    "numbers(list)\n",
    "        \n",
    "    \n",
    "    "
   ]
  },
  {
   "cell_type": "markdown",
   "metadata": {},
   "source": [
    "#Q5: WRITE A FUNCTION WHICH CAN TAKE A LIST OF NUMBERS AND IT WILL RETURN SORTED LIST.\n",
    "#timeTaken:15min"
   ]
  },
  {
   "cell_type": "code",
   "execution_count": 42,
   "metadata": {},
   "outputs": [
    {
     "data": {
      "text/plain": [
       "[1, 3, 4, 8, 9, 12, 51, 54]"
      ]
     },
     "execution_count": 42,
     "metadata": {},
     "output_type": "execute_result"
    }
   ],
   "source": [
    "list = [3, 1, 8, 4, 9, 12, 54, 51]\n",
    "def number(lst):\n",
    "    lst.sort()\n",
    "    return list\n",
    "number(list)"
   ]
  },
  {
   "cell_type": "markdown",
   "metadata": {},
   "source": [
    "#Q6: WRITE A FUNCTION THAT WILL TAKE THE RADIUS AND RETURN THE PERIMETER AND AREA OF CIRCLE WITH 5% INCREMENT.\n",
    "#timeTaken:26min"
   ]
  },
  {
   "cell_type": "code",
   "execution_count": 43,
   "metadata": {},
   "outputs": [
    {
     "data": {
      "text/plain": [
       "26.389378290154262"
      ]
     },
     "execution_count": 43,
     "metadata": {},
     "output_type": "execute_result"
    }
   ],
   "source": [
    "def perimeter(r):\n",
    "    import math\n",
    "    peri = (2*math.pi*r)\n",
    "    peri += peri*0.05\n",
    "    return peri #in cm\n",
    "perimeter(4)\n"
   ]
  },
  {
   "cell_type": "code",
   "execution_count": 44,
   "metadata": {},
   "outputs": [
    {
     "data": {
      "text/plain": [
       "118.75220230569418"
      ]
     },
     "execution_count": 44,
     "metadata": {},
     "output_type": "execute_result"
    }
   ],
   "source": [
    "def area(r):\n",
    "    import math\n",
    "    Area = (math.pi * r**2) #in cm^2\n",
    "    Area += Area*0.05\n",
    "    return Area\n",
    "area(6)"
   ]
  },
  {
   "cell_type": "code",
   "execution_count": null,
   "metadata": {},
   "outputs": [],
   "source": [
    "#Q7: WRITE A FUNCION THAT WILL TAKE THE STRINGS AS ARGUMENT AND RETURN NUMBER OF VOWELS AND CONSONANTS.\n",
    "#timeTakn:28min"
   ]
  },
  {
   "cell_type": "code",
   "execution_count": 52,
   "metadata": {},
   "outputs": [
    {
     "data": {
      "text/plain": [
       "'U'"
      ]
     },
     "execution_count": 52,
     "metadata": {},
     "output_type": "execute_result"
    }
   ],
   "source": [
    "def vowel(string):\n",
    "    for vow in string:\n",
    "        if vow in 'aeiouAEIOU':\n",
    "            return vow\n",
    "vowel('Usman Institude Of Technology')\n",
    "    "
   ]
  },
  {
   "cell_type": "code",
   "execution_count": null,
   "metadata": {},
   "outputs": [],
   "source": []
  },
  {
   "cell_type": "markdown",
   "metadata": {},
   "source": [
    "#Q8: WRITE A FUNCTION THAT WILL TAKE THE LENGTH AND BREATH FOR A RECTANGLE AND RETURN PERIMETER AND AREA OF RECTANGLE WITH 8% INCREMENT\n",
    "#timeTaken:5min"
   ]
  },
  {
   "cell_type": "code",
   "execution_count": 54,
   "metadata": {},
   "outputs": [
    {
     "data": {
      "text/plain": [
       "69.12"
      ]
     },
     "execution_count": 54,
     "metadata": {},
     "output_type": "execute_result"
    }
   ],
   "source": [
    "import math\n",
    "def rectangle(l, b):\n",
    "    perimeter = 2*(l*b)\n",
    "    perimeter += perimeter*0.08 #cm^2\n",
    "    return perimeter\n",
    "rectangle(4, 8)"
   ]
  },
  {
   "cell_type": "code",
   "execution_count": 55,
   "metadata": {},
   "outputs": [
    {
     "data": {
      "text/plain": [
       "48.6"
      ]
     },
     "execution_count": 55,
     "metadata": {},
     "output_type": "execute_result"
    }
   ],
   "source": [
    "import math\n",
    "def rec(l, b):\n",
    "    area = l*b\n",
    "    area += area*0.08 #in cm^2\n",
    "    return area\n",
    "rec(9, 5)"
   ]
  },
  {
   "cell_type": "markdown",
   "metadata": {},
   "source": [
    "#Q9: WRITE A FUNCTION THAT CAN TAKE THE NUMBERS IN STRINGS. FROM STRING FIND WHICH NUMBER IS EVEN AND WHICH ONE IS ODD. SAVE THEM IN TWO DIFFERENT LISTS AND GENERATE THE RESULT.\n",
    "#timeTaken:23min"
   ]
  },
  {
   "cell_type": "code",
   "execution_count": 63,
   "metadata": {},
   "outputs": [
    {
     "name": "stdout",
     "output_type": "stream",
     "text": [
      "Even number list: []\n",
      "Odd number list:  [1]\n",
      "Even number list: [2]\n",
      "Odd number list:  [1, 3]\n",
      "Even number list: [2, 4]\n",
      "Odd number list:  [1, 3, 5]\n",
      "Even number list: [2, 4, 6]\n",
      "Odd number list:  [1, 3, 5, 7]\n",
      "Even number list: [2, 4, 6, 8]\n",
      "Odd number list:  [1, 3, 5, 7, 9]\n"
     ]
    }
   ],
   "source": [
    "def num(list):\n",
    "    even_list = []\n",
    "    odd_list = []\n",
    "    for even in list:\n",
    "        if (even%2==0):\n",
    "            even_list.append(even)\n",
    "            \n",
    "        else:\n",
    "            odd_list.append(even)\n",
    "            print(\"Even number list:\", even_list)\n",
    "            print(\"Odd number list: \", odd_list)\n",
    "list = [1, 2, 3, 4, 5, 6, 7, 8, 9, 10]        \n",
    "num(list)\n",
    "            "
   ]
  },
  {
   "cell_type": "markdown",
   "metadata": {},
   "source": [
    "#Q10: WRITE A FUNCTION THAT WILL TAKE THE STRING FROM THE USER AND RETURN HOW MANY ALPHABETS HAVE BEEN USED IN IT AND WHICH ALPHABETS ARE MISSING.\n",
    "#timeTaken:30min"
   ]
  },
  {
   "cell_type": "code",
   "execution_count": 64,
   "metadata": {},
   "outputs": [
    {
     "name": "stdout",
     "output_type": "stream",
     "text": [
      "Alphabets used ['u', 's', 'm', 'a', 'n']\n",
      "Alphabets not used: [' ']\n",
      "Alphabets used ['u', 's', 'm', 'a', 'n', 'i', 'n', 's', 't', 'i', 't', 'u', 'd', 'e']\n",
      "Alphabets not used: [' ', ' ']\n",
      "Alphabets used ['u', 's', 'm', 'a', 'n', 'i', 'n', 's', 't', 'i', 't', 'u', 'd', 'e', 'o', 'f']\n",
      "Alphabets not used: [' ', ' ', ' ']\n"
     ]
    }
   ],
   "source": [
    "string = 'usman institude of technology'\n",
    "used = []\n",
    "unused = []\n",
    "def alpha(string):\n",
    "    for i in string:\n",
    "        if i in 'abcdefghijklmnopqrstuvwxyz':\n",
    "            used.append(i)\n",
    "        else:\n",
    "            unused.append(i)\n",
    "            print(\"Alphabets used\", used)\n",
    "            print(\"Alphabets not used:\", unused)\n",
    "alpha(string)\n",
    "    \n",
    "    "
   ]
  },
  {
   "cell_type": "markdown",
   "metadata": {},
   "source": [
    "#Q11: WRITE A FUNCTION THAT WILL TAKE VERBS IN WORDS AND RETURN A LIST OF VERBS WITH CONTINOUS TENSE BY ADDING (ING) AT THE END OF EACH VERB.\n",
    "#timeTaken:6min"
   ]
  },
  {
   "cell_type": "code",
   "execution_count": 66,
   "metadata": {},
   "outputs": [
    {
     "data": {
      "text/plain": [
       "'hearing'"
      ]
     },
     "execution_count": 66,
     "metadata": {},
     "output_type": "execute_result"
    }
   ],
   "source": [
    "l_verbs = []\n",
    "def verb(verbs):\n",
    "    for ver in verbs:\n",
    "        v = ver+'ing'\n",
    "        l_verbs.append(v)\n",
    "        return v\n",
    "verbs = ['hear', 'happen', 'listen']\n",
    "verb(verbs)"
   ]
  },
  {
   "cell_type": "markdown",
   "metadata": {},
   "source": [
    "#Q12: MAKE A FUNCTION WHICH CAN TAKE TWO RADIUS OF CIRCLES AND FIND THE AREAS OF IT AND SUBTRACT SMALLER ONE FROM LARGER ONE AND TELL THE REMAINING AREA OF CIRCLE.\n",
    "#timeTaken:5min"
   ]
  },
  {
   "cell_type": "code",
   "execution_count": 69,
   "metadata": {},
   "outputs": [
    {
     "data": {
      "text/plain": [
       "25.132741228718345"
      ]
     },
     "execution_count": 69,
     "metadata": {},
     "output_type": "execute_result"
    }
   ],
   "source": [
    "import math\n",
    "def circle(r1, r2):\n",
    "    area = (2*math.pi*r1)\n",
    "    Area = (2*math.pi*r2)\n",
    "    if area>Area:\n",
    "        diff = area - Area\n",
    "        return diff #in cm\n",
    "    else:\n",
    "        differ = Area - area\n",
    "        return differ #in cm\n",
    "circle(5, 9)"
   ]
  },
  {
   "cell_type": "code",
   "execution_count": null,
   "metadata": {},
   "outputs": [],
   "source": [
    "#Q13: WRITE A FUNCTION WHICH WILL TAKE A STRING AND CALCULATE NUMBER OF UPPER CASE LETTERS AND LOWER CASE LETTERS.\n",
    "#timeTaken:32min"
   ]
  },
  {
   "cell_type": "code",
   "execution_count": 81,
   "metadata": {},
   "outputs": [
    {
     "ename": "UnboundLocalError",
     "evalue": "local variable 'Upper' referenced before assignment",
     "output_type": "error",
     "traceback": [
      "\u001b[1;31m---------------------------------------------------------------------------\u001b[0m",
      "\u001b[1;31mUnboundLocalError\u001b[0m                         Traceback (most recent call last)",
      "\u001b[1;32m<ipython-input-81-ae2abd6ce8d3>\u001b[0m in \u001b[0;36m<module>\u001b[1;34m\u001b[0m\n\u001b[0;32m     10\u001b[0m             \u001b[1;32mreturn\u001b[0m \u001b[0mLower\u001b[0m\u001b[1;33m\u001b[0m\u001b[1;33m\u001b[0m\u001b[0m\n\u001b[0;32m     11\u001b[0m \u001b[0mstring\u001b[0m \u001b[1;33m=\u001b[0m \u001b[1;34m'Usman Institude Of Technology'\u001b[0m\u001b[1;33m\u001b[0m\u001b[1;33m\u001b[0m\u001b[0m\n\u001b[1;32m---> 12\u001b[1;33m \u001b[0mst\u001b[0m\u001b[1;33m(\u001b[0m\u001b[0mstring\u001b[0m\u001b[1;33m)\u001b[0m\u001b[1;33m\u001b[0m\u001b[1;33m\u001b[0m\u001b[0m\n\u001b[0m\u001b[0;32m     13\u001b[0m \u001b[1;33m\u001b[0m\u001b[0m\n",
      "\u001b[1;32m<ipython-input-81-ae2abd6ce8d3>\u001b[0m in \u001b[0;36mst\u001b[1;34m(string)\u001b[0m\n\u001b[0;32m      4\u001b[0m     \u001b[1;32mfor\u001b[0m \u001b[0mu\u001b[0m \u001b[1;32min\u001b[0m \u001b[0mstring\u001b[0m\u001b[1;33m:\u001b[0m\u001b[1;33m\u001b[0m\u001b[1;33m\u001b[0m\u001b[0m\n\u001b[0;32m      5\u001b[0m         \u001b[1;32mif\u001b[0m \u001b[1;33m(\u001b[0m\u001b[0mu\u001b[0m\u001b[1;33m.\u001b[0m\u001b[0misupper\u001b[0m\u001b[1;33m(\u001b[0m\u001b[1;33m)\u001b[0m\u001b[1;33m)\u001b[0m\u001b[1;33m:\u001b[0m\u001b[1;33m\u001b[0m\u001b[1;33m\u001b[0m\u001b[0m\n\u001b[1;32m----> 6\u001b[1;33m             \u001b[0mUpper\u001b[0m \u001b[1;33m+=\u001b[0m \u001b[1;36m1\u001b[0m\u001b[1;33m\u001b[0m\u001b[1;33m\u001b[0m\u001b[0m\n\u001b[0m\u001b[0;32m      7\u001b[0m             \u001b[1;32mreturn\u001b[0m \u001b[0mUpper\u001b[0m\u001b[1;33m\u001b[0m\u001b[1;33m\u001b[0m\u001b[0m\n\u001b[0;32m      8\u001b[0m         \u001b[1;32melif\u001b[0m \u001b[1;33m(\u001b[0m\u001b[0mu\u001b[0m\u001b[1;33m.\u001b[0m\u001b[0mislower\u001b[0m\u001b[1;33m(\u001b[0m\u001b[1;33m)\u001b[0m\u001b[1;33m)\u001b[0m\u001b[1;33m:\u001b[0m\u001b[1;33m\u001b[0m\u001b[1;33m\u001b[0m\u001b[0m\n",
      "\u001b[1;31mUnboundLocalError\u001b[0m: local variable 'Upper' referenced before assignment"
     ]
    }
   ],
   "source": [
    "\n",
    "Upper = 0\n",
    "Lower = 0\n",
    "def st(string):\n",
    "    for u in string:\n",
    "        if (u.isupper()):\n",
    "            Upper += 1\n",
    "            return Upper\n",
    "        elif (u.islower()):\n",
    "            Lower+= 1\n",
    "            return Lower\n",
    "string = 'Usman Institude Of Technology'\n",
    "st(string)\n",
    "        "
   ]
  },
  {
   "cell_type": "markdown",
   "metadata": {},
   "source": [
    "#Q14: WRITE A FUNCTION WHICH WILL TAKE LENGTH AND BREATH OF TWO RECTANGLES. SUBTRACT THE SMALLER RECTANGLE FROM THE LARGER RECTANGLE AND RETURN THE AREA LEFT BEHIND.\n",
    "#timeTaken:3min"
   ]
  },
  {
   "cell_type": "code",
   "execution_count": 82,
   "metadata": {},
   "outputs": [
    {
     "data": {
      "text/plain": [
       "14"
      ]
     },
     "execution_count": 82,
     "metadata": {},
     "output_type": "execute_result"
    }
   ],
   "source": [
    "import math\n",
    "def rectangle(l1, b1, l2, b2):\n",
    "    rec1 = l1 * b1\n",
    "    rec2 = l2 * b2\n",
    "    if rec1 > rec2:\n",
    "        area = rec1-rec1\n",
    "        return area\n",
    "    else:\n",
    "        area = rec2-rec1\n",
    "        return area\n",
    "rectangle(2, 3, 4, 5) #in cm^2"
   ]
  },
  {
   "cell_type": "markdown",
   "metadata": {},
   "source": [
    "#Q15: CREATE A FUNCTION THAT CAN ADD THE FRACTIONS IN SERIES SUCH AS 1 TO 8 = 1/8+1/7+1/6+1/5....1/2 AND RETURN THE RESULT IN FRACTION NOT IN DECIMAL.\n",
    "#timeTaken:\n"
   ]
  },
  {
   "cell_type": "code",
   "execution_count": null,
   "metadata": {},
   "outputs": [],
   "source": []
  },
  {
   "cell_type": "code",
   "execution_count": null,
   "metadata": {},
   "outputs": [],
   "source": [
    "#Q16: WRITE A FUNCTION WHICH WILL TAKE HEIGHT AND BASE FOR A TRIANGLE AND"
   ]
  },
  {
   "cell_type": "code",
   "execution_count": null,
   "metadata": {},
   "outputs": [],
   "source": []
  },
  {
   "cell_type": "markdown",
   "metadata": {},
   "source": [
    "#Q17: WRITE A FUNCTION WHICH WILL TAKE A LIST OF FRUIT NAMES. THE FUNCTION WILL RETURN HOW MANY ALPHABETS ARE REPETITIVE IN THE NAMES OF FRUITS AND HOW MANY ARE UNIQUE LETTERS."
   ]
  },
  {
   "cell_type": "code",
   "execution_count": null,
   "metadata": {},
   "outputs": [],
   "source": []
  },
  {
   "cell_type": "markdown",
   "metadata": {},
   "source": [
    "#Q18: WRITE A FUNCTION THAT CAN TAKE SQUARE LENGTH AND RADIUS OF CIRCLE . FIND THE AREA OF BOTH AND SUBTRACT THE SMALLEST SHAPE FROM THE LARGEST ONE AND RETURN THE REMAINING SHAPE AREA.\n",
    "#timeTaken:3min"
   ]
  },
  {
   "cell_type": "code",
   "execution_count": 83,
   "metadata": {},
   "outputs": [
    {
     "data": {
      "text/plain": [
       "55.867258771281655"
      ]
     },
     "execution_count": 83,
     "metadata": {},
     "output_type": "execute_result"
    }
   ],
   "source": [
    "import math \n",
    "def a(l, r):\n",
    "    circle = 2*math.pi*r\n",
    "    square = l*l\n",
    "    if circle>square:\n",
    "        area = circle-square\n",
    "        return area #in cm^2\n",
    "    else:\n",
    "        area = square - circle\n",
    "        return area #in cm^2\n",
    "a(9,4)\n",
    "    \n",
    "    "
   ]
  }
 ],
 "metadata": {
  "kernelspec": {
   "display_name": "Python 3",
   "language": "python",
   "name": "python3"
  },
  "language_info": {
   "codemirror_mode": {
    "name": "ipython",
    "version": 3
   },
   "file_extension": ".py",
   "mimetype": "text/x-python",
   "name": "python",
   "nbconvert_exporter": "python",
   "pygments_lexer": "ipython3",
   "version": "3.7.3"
  }
 },
 "nbformat": 4,
 "nbformat_minor": 2
}
