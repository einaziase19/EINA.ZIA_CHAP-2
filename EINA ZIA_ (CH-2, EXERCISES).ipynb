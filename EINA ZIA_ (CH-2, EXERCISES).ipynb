{
 "cells": [
  {
   "cell_type": "markdown",
   "metadata": {},
   "source": [
    "# CHAP-2 EXERCISES"
   ]
  },
  {
   "cell_type": "markdown",
   "metadata": {},
   "source": [
    "# 2.11"
   ]
  },
  {
   "cell_type": "code",
   "execution_count": 1,
   "metadata": {},
   "outputs": [
    {
     "name": "stdout",
     "output_type": "stream",
     "text": [
      "-28\n"
     ]
    }
   ],
   "source": [
    "#(a)\n",
    "#timeTaken:24sec\n",
    "sum = -7-6-5-4-3-2-1\n",
    "print(sum)"
   ]
  },
  {
   "cell_type": "code",
   "execution_count": 4,
   "metadata": {},
   "outputs": [
    {
     "name": "stdout",
     "output_type": "stream",
     "text": [
      "10.5\n"
     ]
    }
   ],
   "source": [
    "#(b)\n",
    "#timeTaken:3min\n",
    "child17 = 9 #y/o\n",
    "child24 = 10 #y/o\n",
    "child21 = 11 #y/o\n",
    "child27 = 12 #y/o\n",
    "\n",
    "averageAge = (9+10+11+12) / 4\n",
    "print(averageAge)\n",
    "\n"
   ]
  },
  {
   "cell_type": "code",
   "execution_count": 2,
   "metadata": {},
   "outputs": [
    {
     "name": "stdout",
     "output_type": "stream",
     "text": [
      "9.5367431640625e-07\n"
     ]
    }
   ],
   "source": [
    "#(c)\n",
    "#timeTaken:47sec\n",
    "power = 2**-20\n",
    "print(power)"
   ]
  },
  {
   "cell_type": "code",
   "execution_count": 5,
   "metadata": {},
   "outputs": [
    {
     "name": "stdout",
     "output_type": "stream",
     "text": [
      "71\n"
     ]
    }
   ],
   "source": [
    "#(d)\n",
    "#timeTaken:2min\n",
    "multiple = 4356 //61\n",
    "print(multiple)"
   ]
  },
  {
   "cell_type": "code",
   "execution_count": 9,
   "metadata": {},
   "outputs": [
    {
     "name": "stdout",
     "output_type": "stream",
     "text": [
      "25\n"
     ]
    }
   ],
   "source": [
    "#(e)\n",
    "#timeTaken:53sec\n",
    "remainder = 4356 % 61\n",
    "print(remainder)\n"
   ]
  },
  {
   "cell_type": "markdown",
   "metadata": {},
   "source": [
    "# 2.12"
   ]
  },
  {
   "cell_type": "code",
   "execution_count": 15,
   "metadata": {},
   "outputs": [
    {
     "name": "stdout",
     "output_type": "stream",
     "text": [
      "-+\n",
      "-+-\n",
      "+--\n",
      "+--+--\n",
      "+--+--+--+--+--+--+--+--+--+--+\n",
      "+-+++--+-+++--+-+++--+-+++--+-+++--\n"
     ]
    }
   ],
   "source": [
    "#timeTaken:17min\n",
    "s1 = '-'\n",
    "s2 = '+'\n",
    "\n",
    "#(a)\n",
    "print(s1+s2)\n",
    "\n",
    "#(b)\n",
    "print(s1+s2+s1)\n",
    "\n",
    "#(c)\n",
    "print(s2+(s1*2))\n",
    "\n",
    "#(d)\n",
    "print((s2+s1*2)*2)\n",
    "\n",
    "#(e)\n",
    "print((s2+s1*2)*10+s2)\n",
    "\n",
    "#(f)\n",
    "print((s2+s1+s2*3+s1*2)*5)\n",
    "\n"
   ]
  },
  {
   "cell_type": "markdown",
   "metadata": {},
   "source": [
    "# 2.13"
   ]
  },
  {
   "cell_type": "code",
   "execution_count": 22,
   "metadata": {},
   "outputs": [
    {
     "name": "stdout",
     "output_type": "stream",
     "text": [
      "a\n",
      "c\n",
      "z\n",
      "y\n",
      "q\n"
     ]
    }
   ],
   "source": [
    "#timeTaken:5min\n",
    "s = 'abcdefghijklmnopqrstuvwxyz'\n",
    "print(s[0])\n",
    "print(s[2])\n",
    "print(s[-1])\n",
    "print(s[-2])\n",
    "print(s[16])"
   ]
  },
  {
   "cell_type": "markdown",
   "metadata": {},
   "source": [
    "# 2.14"
   ]
  },
  {
   "cell_type": "code",
   "execution_count": 28,
   "metadata": {},
   "outputs": [
    {
     "data": {
      "text/plain": [
       "False"
      ]
     },
     "execution_count": 28,
     "metadata": {},
     "output_type": "execute_result"
    }
   ],
   "source": [
    "#timeTable:\n",
    "s = 'goodbye'\n",
    "#(a)\n",
    "s[0] == 'g'\n",
    "\n",
    "#(b)\n",
    "s[6] == 'g'\n",
    "\n",
    "#(c)\n",
    "s[0] == 'g' and s[1] =='a'\n",
    "\n",
    "#(d)\n",
    "\n",
    "\n",
    "#(e)\n",
    "\n",
    "\n",
    "#(f)\n",
    "s[0] == s[6]\n",
    "\n",
    "#(g)\n",
    "s[3]+s[4]+s[5]+s[6] =='tion'"
   ]
  },
  {
   "cell_type": "markdown",
   "metadata": {},
   "source": [
    "# 2.15"
   ]
  },
  {
   "cell_type": "code",
   "execution_count": 47,
   "metadata": {},
   "outputs": [
    {
     "data": {
      "text/plain": [
       "True"
      ]
     },
     "execution_count": 47,
     "metadata": {},
     "output_type": "execute_result"
    }
   ],
   "source": [
    "#(a)\n",
    "#timeTaken:1min\n",
    "word1 ='anachronistically'\n",
    "word2 ='counterintuitive'\n",
    "len(word1) - 1 == len(word2)"
   ]
  },
  {
   "cell_type": "code",
   "execution_count": 32,
   "metadata": {},
   "outputs": [
    {
     "data": {
      "text/plain": [
       "'misinterpretation'"
      ]
     },
     "execution_count": 32,
     "metadata": {},
     "output_type": "execute_result"
    }
   ],
   "source": [
    "#(b)\n",
    "#timeTaken:2min\n",
    "word1 ='misinterpretation'\n",
    "word2 ='misrepresentation'\n",
    "min(word1, word2)\n"
   ]
  },
  {
   "cell_type": "code",
   "execution_count": 30,
   "metadata": {},
   "outputs": [
    {
     "data": {
      "text/plain": [
       "False"
      ]
     },
     "execution_count": 30,
     "metadata": {},
     "output_type": "execute_result"
    }
   ],
   "source": [
    "#(c)\n",
    "#timeTaken:1min\n",
    "word = 'floccinaucinihilipilification'\n",
    "'e' in word"
   ]
  },
  {
   "cell_type": "code",
   "execution_count": 31,
   "metadata": {},
   "outputs": [
    {
     "data": {
      "text/plain": [
       "True"
      ]
     },
     "execution_count": 31,
     "metadata": {},
     "output_type": "execute_result"
    }
   ],
   "source": [
    "#(d)\n",
    "#timeTaken:2min\n",
    "word1 = 'counterrevolution'\n",
    "word2 = 'counter'\n",
    "word3 = 'revolution'\n",
    "len(word1) == len(word2) + len(word3)"
   ]
  },
  {
   "cell_type": "code",
   "execution_count": 41,
   "metadata": {},
   "outputs": [
    {
     "name": "stdout",
     "output_type": "stream",
     "text": [
      "9.5\n"
     ]
    }
   ],
   "source": [
    "#2.16\n",
    "#timeTaken:2min\n",
    "#(a)\n",
    "a = 6 \n",
    "b = 7 \n",
    "\n",
    "#(b)\n",
    "c = a+b / 2\n",
    "print(c)\n",
    "\n",
    "\n"
   ]
  },
  {
   "cell_type": "code",
   "execution_count": 38,
   "metadata": {},
   "outputs": [
    {
     "name": "stdout",
     "output_type": "stream",
     "text": [
      "['paper', 'staples', 'pencils']\n"
     ]
    }
   ],
   "source": [
    "#(c)\n",
    "#timeTaken:1min\n",
    "inventory = ['paper', 'staples', 'pencils']\n",
    "print(inventory)"
   ]
  },
  {
   "cell_type": "code",
   "execution_count": 40,
   "metadata": {},
   "outputs": [
    {
     "name": "stdout",
     "output_type": "stream",
     "text": [
      "John Fitzgerald Kennedy\n"
     ]
    }
   ],
   "source": [
    "#(d)\n",
    "#timeTaken:2min\n",
    "first = 'John'\n",
    "middle = 'Fitzgerald'\n",
    "last = 'Kennedy'\n",
    "\n",
    "#(e)\n",
    "fullname = first + ' ' + middle + ' ' + last\n",
    "print(fullname)"
   ]
  },
  {
   "cell_type": "markdown",
   "metadata": {},
   "source": [
    "# 2.17"
   ]
  },
  {
   "cell_type": "code",
   "execution_count": 43,
   "metadata": {},
   "outputs": [
    {
     "data": {
      "text/plain": [
       "True"
      ]
     },
     "execution_count": 43,
     "metadata": {},
     "output_type": "execute_result"
    }
   ],
   "source": [
    "#(a)\n",
    "#timeTaken:3min\n",
    "sum = 17-9\n",
    "sum < 10"
   ]
  },
  {
   "cell_type": "code",
   "execution_count": 45,
   "metadata": {},
   "outputs": [
    {
     "data": {
      "text/plain": [
       "False"
      ]
     },
     "execution_count": 45,
     "metadata": {},
     "output_type": "execute_result"
    }
   ],
   "source": [
    "#(b)\n",
    "#timeTaken:1 min\n",
    "len(inventory) == 5 * len(fullname)"
   ]
  },
  {
   "cell_type": "code",
   "execution_count": 48,
   "metadata": {},
   "outputs": [
    {
     "data": {
      "text/plain": [
       "True"
      ]
     },
     "execution_count": 48,
     "metadata": {},
     "output_type": "execute_result"
    }
   ],
   "source": [
    "#(c)\n",
    "#timeTaken:20sec\n",
    "c <= 24"
   ]
  },
  {
   "cell_type": "code",
   "execution_count": null,
   "metadata": {},
   "outputs": [],
   "source": [
    "#(d)\n"
   ]
  },
  {
   "cell_type": "code",
   "execution_count": 49,
   "metadata": {},
   "outputs": [
    {
     "data": {
      "text/plain": [
       "False"
      ]
     },
     "execution_count": 49,
     "metadata": {},
     "output_type": "execute_result"
    }
   ],
   "source": [
    "#(e)\n",
    "#timeTaken:1min\n",
    "len(first) > len(middle) > len(last)"
   ]
  },
  {
   "cell_type": "code",
   "execution_count": 50,
   "metadata": {},
   "outputs": [
    {
     "data": {
      "text/plain": [
       "False"
      ]
     },
     "execution_count": 50,
     "metadata": {},
     "output_type": "execute_result"
    }
   ],
   "source": [
    "#(f)\n",
    "#timeTaken:\n",
    "len(inventory) == 0 or len(inventory) > 10\n"
   ]
  },
  {
   "cell_type": "markdown",
   "metadata": {},
   "source": [
    "# 2.18"
   ]
  },
  {
   "cell_type": "code",
   "execution_count": 51,
   "metadata": {},
   "outputs": [
    {
     "data": {
      "text/plain": [
       "False"
      ]
     },
     "execution_count": 51,
     "metadata": {},
     "output_type": "execute_result"
    }
   ],
   "source": [
    "#timeTaken:2min\n",
    "#(a)\n",
    "flower = ['rose', 'bougainvillea', 'yucca', 'marigold', 'daylilly', 'lilly of the valley']\n",
    "\n",
    "#(b)\n",
    "'potato' in flower"
   ]
  },
  {
   "cell_type": "code",
   "execution_count": 56,
   "metadata": {},
   "outputs": [
    {
     "name": "stdout",
     "output_type": "stream",
     "text": [
      "['rose', 'bougainvillea', 'marigold']\n"
     ]
    }
   ],
   "source": [
    "#(c)\n",
    "#timeTaken:3min\n",
    "thorny = [flower[0], flower[1], flower[3]]\n",
    "print(thorny)"
   ]
  },
  {
   "cell_type": "code",
   "execution_count": 58,
   "metadata": {},
   "outputs": [
    {
     "name": "stdout",
     "output_type": "stream",
     "text": [
      "['lilly of the valley']\n"
     ]
    }
   ],
   "source": [
    "#(d)\n",
    "#timeTaken:3min\n",
    "poisonous = [flower[-1]]\n",
    "print(poisonous)\n"
   ]
  },
  {
   "cell_type": "code",
   "execution_count": 62,
   "metadata": {},
   "outputs": [
    {
     "name": "stdout",
     "output_type": "stream",
     "text": [
      "['rose', 'bougainvillea', 'marigold', 'lilly of the valley']\n"
     ]
    }
   ],
   "source": [
    "#(e)\n",
    "#timeTaken:1min\n",
    "dangerous = thorny + poisonous\n",
    "print(dangerous)"
   ]
  },
  {
   "cell_type": "markdown",
   "metadata": {},
   "source": [
    "# 2.19"
   ]
  },
  {
   "cell_type": "code",
   "execution_count": 67,
   "metadata": {},
   "outputs": [],
   "source": [
    "#timeTaken:11min\n",
    "answers = ['Y', 'N', 'N', 'Y', 'N', 'Y', 'Y', 'Y', 'Y', 'N', 'N', 'N']\n",
    "#(a)\n",
    "numYes = 5\n",
    "\n",
    "#(b)\n",
    "numNo = 6\n",
    "\n",
    "#(c)\n",
    "percentYes = \n",
    "\n",
    "#(d)\n",
    "answers.sort()\n",
    "\n",
    "#(e)\n",
    "f = answers[0]\n"
   ]
  },
  {
   "cell_type": "markdown",
   "metadata": {},
   "source": [
    "# 2.20"
   ]
  },
  {
   "cell_type": "code",
   "execution_count": 71,
   "metadata": {},
   "outputs": [
    {
     "ename": "NameError",
     "evalue": "name 'bat' is not defined",
     "output_type": "error",
     "traceback": [
      "\u001b[1;31m---------------------------------------------------------------------------\u001b[0m",
      "\u001b[1;31mNameError\u001b[0m                                 Traceback (most recent call last)",
      "\u001b[1;32m<ipython-input-71-02534a3d465f>\u001b[0m in \u001b[0;36m<module>\u001b[1;34m\u001b[0m\n\u001b[0;32m      2\u001b[0m \u001b[0ms\u001b[0m \u001b[1;33m=\u001b[0m \u001b[1;34m'bat'\u001b[0m\u001b[1;33m\u001b[0m\u001b[1;33m\u001b[0m\u001b[0m\n\u001b[0;32m      3\u001b[0m \u001b[0mr\u001b[0m \u001b[1;33m=\u001b[0m \u001b[1;34m'tab'\u001b[0m\u001b[1;33m\u001b[0m\u001b[1;33m\u001b[0m\u001b[0m\n\u001b[1;32m----> 4\u001b[1;33m \u001b[0me\u001b[0m \u001b[1;33m=\u001b[0m \u001b[0meval\u001b[0m\u001b[1;33m(\u001b[0m\u001b[0ms\u001b[0m\u001b[1;33m)\u001b[0m\u001b[1;33m\u001b[0m\u001b[1;33m\u001b[0m\u001b[0m\n\u001b[0m",
      "\u001b[1;32m<string>\u001b[0m in \u001b[0;36m<module>\u001b[1;34m\u001b[0m\n",
      "\u001b[1;31mNameError\u001b[0m: name 'bat' is not defined"
     ]
    }
   ],
   "source": [
    "#timeTaken:12min\n",
    "s = 'bat'\n",
    "r = 'tab'\n",
    "e = eval(s)"
   ]
  },
  {
   "cell_type": "markdown",
   "metadata": {},
   "source": [
    "# 2.21"
   ]
  },
  {
   "cell_type": "code",
   "execution_count": 72,
   "metadata": {},
   "outputs": [
    {
     "name": "stdout",
     "output_type": "stream",
     "text": [
      "Initials of last name:Z\n",
      "Initials of first name:E\n",
      "Initials of my name is: ZE\n"
     ]
    }
   ],
   "source": [
    "#timeTaken:2min\n",
    "s = input('Initials of last name:')\n",
    "t = input('Initials of first name:')\n",
    "fullname = s + t\n",
    "print('Initials of my name is:', fullname)"
   ]
  },
  {
   "cell_type": "markdown",
   "metadata": {},
   "source": [
    "# 2.22"
   ]
  },
  {
   "cell_type": "code",
   "execution_count": 74,
   "metadata": {},
   "outputs": [
    {
     "ename": "TypeError",
     "evalue": "'list' object cannot be interpreted as an integer",
     "output_type": "error",
     "traceback": [
      "\u001b[1;31m---------------------------------------------------------------------------\u001b[0m",
      "\u001b[1;31mTypeError\u001b[0m                                 Traceback (most recent call last)",
      "\u001b[1;32m<ipython-input-74-9ddfb1a632d1>\u001b[0m in \u001b[0;36m<module>\u001b[1;34m\u001b[0m\n\u001b[0;32m      1\u001b[0m \u001b[1;31m#timeTable:\u001b[0m\u001b[1;33m\u001b[0m\u001b[1;33m\u001b[0m\u001b[1;33m\u001b[0m\u001b[0m\n\u001b[0;32m      2\u001b[0m \u001b[0mlst\u001b[0m \u001b[1;33m=\u001b[0m \u001b[1;33m[\u001b[0m\u001b[1;36m2\u001b[0m\u001b[1;33m,\u001b[0m \u001b[1;36m5\u001b[0m\u001b[1;33m,\u001b[0m \u001b[1;36m6\u001b[0m\u001b[1;33m,\u001b[0m \u001b[1;36m7\u001b[0m\u001b[1;33m,\u001b[0m \u001b[1;33m-\u001b[0m\u001b[1;36m3\u001b[0m\u001b[1;33m,\u001b[0m \u001b[1;36m8\u001b[0m\u001b[1;33m,\u001b[0m \u001b[1;36m10\u001b[0m\u001b[1;33m]\u001b[0m\u001b[1;33m\u001b[0m\u001b[1;33m\u001b[0m\u001b[0m\n\u001b[1;32m----> 3\u001b[1;33m \u001b[0mrange\u001b[0m\u001b[1;33m(\u001b[0m\u001b[0mlst\u001b[0m\u001b[1;33m)\u001b[0m\u001b[1;33m\u001b[0m\u001b[1;33m\u001b[0m\u001b[0m\n\u001b[0m",
      "\u001b[1;31mTypeError\u001b[0m: 'list' object cannot be interpreted as an integer"
     ]
    }
   ],
   "source": [
    "#timeTable:3min\n",
    "lst = [2, 5, 6, 7, -3, 8, 10]\n",
    "\n"
   ]
  },
  {
   "cell_type": "markdown",
   "metadata": {},
   "source": [
    "# 2.23"
   ]
  },
  {
   "cell_type": "code",
   "execution_count": 75,
   "metadata": {},
   "outputs": [
    {
     "data": {
      "text/plain": [
       "['Jan', 'Feb', 'Mar', 'Apr', 'May']"
      ]
     },
     "execution_count": 75,
     "metadata": {},
     "output_type": "execute_result"
    }
   ],
   "source": [
    "#(a)\n",
    "#timeTable:2min\n",
    "monthL = ['Jan', 'Feb', 'Mar', 'May']\n",
    "monthL.insert(3, 'Apr')\n",
    "monthL\n"
   ]
  },
  {
   "cell_type": "code",
   "execution_count": 77,
   "metadata": {},
   "outputs": [
    {
     "data": {
      "text/plain": [
       "['Jan', 'Feb', 'Mar', 'May', 'Apr', 'Jun']"
      ]
     },
     "execution_count": 77,
     "metadata": {},
     "output_type": "execute_result"
    }
   ],
   "source": [
    "#(b)\n",
    "#timeTable:2min\n",
    "monthL = ['Jan', 'Feb', 'Mar', 'May', 'Apr']\n",
    "monthL.append('Jun')\n",
    "monthL"
   ]
  },
  {
   "cell_type": "code",
   "execution_count": 80,
   "metadata": {},
   "outputs": [
    {
     "data": {
      "text/plain": [
       "['Jan', 'Feb', 'Mar', 'May', 'Apr']"
      ]
     },
     "execution_count": 80,
     "metadata": {},
     "output_type": "execute_result"
    }
   ],
   "source": [
    "#(c)\n",
    "#timeTaken:2min\n",
    "monthL = ['Jan', 'Feb', 'Mar', 'May', 'Apr', 'Jun']\n",
    "monthL.pop()\n",
    "monthL"
   ]
  },
  {
   "cell_type": "code",
   "execution_count": 81,
   "metadata": {},
   "outputs": [
    {
     "data": {
      "text/plain": [
       "['Jan', 'Mar', 'May', 'Apr', 'Jun']"
      ]
     },
     "execution_count": 81,
     "metadata": {},
     "output_type": "execute_result"
    }
   ],
   "source": [
    "#(d)\n",
    "#timeTaken:2min\n",
    "monthL = ['Jan', 'Feb', 'Mar', 'May', 'Apr', 'Jun']\n",
    "monthL.remove('Feb')\n",
    "monthL\n"
   ]
  },
  {
   "cell_type": "code",
   "execution_count": 82,
   "metadata": {},
   "outputs": [
    {
     "data": {
      "text/plain": [
       "['Jun', 'Apr', 'May', 'Mar', 'Jan']"
      ]
     },
     "execution_count": 82,
     "metadata": {},
     "output_type": "execute_result"
    }
   ],
   "source": [
    "#(e)\n",
    "#timeTaken:1min\n",
    "monthL = ['Jan', 'Mar', 'May', 'Apr', 'Jun']\n",
    "monthL.reverse()\n",
    "monthL\n",
    "\n"
   ]
  },
  {
   "cell_type": "code",
   "execution_count": 83,
   "metadata": {},
   "outputs": [
    {
     "data": {
      "text/plain": [
       "['Apr', 'Jan', 'Jun', 'Mar', 'May']"
      ]
     },
     "execution_count": 83,
     "metadata": {},
     "output_type": "execute_result"
    }
   ],
   "source": [
    "#(f)\n",
    "#timeTaken:1min\n",
    "monthL = ['Jun', 'Apr', 'May', 'Mar', 'Jan']\n",
    "monthL.sort()\n",
    "monthL"
   ]
  },
  {
   "cell_type": "code",
   "execution_count": 84,
   "metadata": {},
   "outputs": [
    {
     "ename": "TypeError",
     "evalue": "tuple indices must be integers or slices, not tuple",
     "output_type": "error",
     "traceback": [
      "\u001b[1;31m---------------------------------------------------------------------------\u001b[0m",
      "\u001b[1;31mTypeError\u001b[0m                                 Traceback (most recent call last)",
      "\u001b[1;32m<ipython-input-84-fb95afa13e58>\u001b[0m in \u001b[0;36m<module>\u001b[1;34m\u001b[0m\n\u001b[0;32m      1\u001b[0m \u001b[1;31m#tuple\u001b[0m\u001b[1;33m\u001b[0m\u001b[1;33m\u001b[0m\u001b[1;33m\u001b[0m\u001b[0m\n\u001b[0;32m      2\u001b[0m \u001b[0mmonthT\u001b[0m \u001b[1;33m=\u001b[0m \u001b[1;33m(\u001b[0m\u001b[1;34m'Jan'\u001b[0m\u001b[1;33m,\u001b[0m \u001b[1;34m'Feb'\u001b[0m\u001b[1;33m,\u001b[0m \u001b[1;34m'Mar'\u001b[0m\u001b[1;33m,\u001b[0m \u001b[1;34m'May'\u001b[0m\u001b[1;33m)\u001b[0m\u001b[1;33m\u001b[0m\u001b[1;33m\u001b[0m\u001b[0m\n\u001b[1;32m----> 3\u001b[1;33m \u001b[0mitem\u001b[0m \u001b[1;33m=\u001b[0m \u001b[0mmonthT\u001b[0m\u001b[1;33m[\u001b[0m\u001b[1;36m3\u001b[0m\u001b[1;33m,\u001b[0m \u001b[1;34m'Apr'\u001b[0m\u001b[1;33m]\u001b[0m\u001b[1;33m\u001b[0m\u001b[1;33m\u001b[0m\u001b[0m\n\u001b[0m\u001b[0;32m      4\u001b[0m \u001b[0mprint\u001b[0m\u001b[1;33m(\u001b[0m\u001b[0mmonthT\u001b[0m\u001b[1;33m)\u001b[0m\u001b[1;33m\u001b[0m\u001b[1;33m\u001b[0m\u001b[0m\n",
      "\u001b[1;31mTypeError\u001b[0m: tuple indices must be integers or slices, not tuple"
     ]
    }
   ],
   "source": [
    "#tuple can not be changed\n",
    "#timeTaken:3min\n",
    "monthT = ('Jan', 'Feb', 'Mar', 'May')\n",
    "item = monthT[3, 'Apr']\n",
    "print(monthT)"
   ]
  },
  {
   "cell_type": "markdown",
   "metadata": {},
   "source": [
    "# 2.24"
   ]
  },
  {
   "cell_type": "code",
   "execution_count": 90,
   "metadata": {},
   "outputs": [
    {
     "name": "stdout",
     "output_type": "stream",
     "text": [
      "[4, 4, 2, 2, 1]\n"
     ]
    }
   ],
   "source": [
    "#timeTaken:4min\n",
    "grades = ['B', 'B', 'F', 'C', 'B', 'A', 'A', 'D', 'C', 'D', 'A', 'A', 'B']\n",
    "list =[grades.count('A'), grades.count('B'), grades.count('C'), grades.count('D'), grades.count('F')]\n",
    "print(list)"
   ]
  },
  {
   "cell_type": "markdown",
   "metadata": {},
   "source": [
    "# 2.25"
   ]
  },
  {
   "cell_type": "code",
   "execution_count": 91,
   "metadata": {},
   "outputs": [
    {
     "name": "stdout",
     "output_type": "stream",
     "text": [
      "[4, 4, 2, 2, 1]\n"
     ]
    }
   ],
   "source": [
    "#timeTaken:3min\n",
    "grades = ('B', 'B', 'F', 'C', 'B', 'A', 'A', 'D', 'C', 'D', 'A', 'A', 'B')\n",
    "list =[grades.count('A'), grades.count('B'), grades.count('C'), grades.count('D'), grades.count('F')]\n",
    "print(list)"
   ]
  },
  {
   "cell_type": "markdown",
   "metadata": {},
   "source": [
    "# 2.26"
   ]
  },
  {
   "cell_type": "code",
   "execution_count": 96,
   "metadata": {},
   "outputs": [
    {
     "name": "stdout",
     "output_type": "stream",
     "text": [
      "True\n",
      "False\n",
      "True\n",
      "False\n"
     ]
    }
   ],
   "source": [
    "#timeTaken:7min\n",
    "import math\n",
    "r = 10\n",
    "x = 0\n",
    "y = 0\n",
    "\n",
    "a = math.sqrt((0-0)**2 + (0-0)**2)\n",
    "b = math.sqrt((10-0)**2 + (10-0)**2)\n",
    "c = math.sqrt((6-0)**2 + (-6-0)**2)\n",
    "d = math.sqrt((-7-0)**2 + (8-0)**2)\n",
    "\n",
    "print(a < r)\n",
    "print(b < r)\n",
    "print(c < r)\n",
    "print(d < r)"
   ]
  },
  {
   "cell_type": "markdown",
   "metadata": {},
   "source": [
    "# 2.27"
   ]
  },
  {
   "cell_type": "code",
   "execution_count": 97,
   "metadata": {},
   "outputs": [
    {
     "name": "stdout",
     "output_type": "stream",
     "text": [
      "Enter the height of a ladder: 16\n",
      "Enter the angle of a ladder inclined towards the wall: 75\n",
      "The distance from the wall to the ladder corner on the ground is foumd to be: 15.454813220625093feet\n"
     ]
    }
   ],
   "source": [
    "#timeTaken:17min\n",
    "from math import pi, sin\n",
    "ladder_height = float(input(\"Enter the height of a ladder: \"))\n",
    "ang = float(input(\"Enter the angle of a ladder inclined towards the wall: \"))\n",
    "rad = ang*(pi/180)\n",
    "base = ladder_height * sin(rad)\n",
    "print(\"The distance from the wall to the ladder corner on the ground is foumd to be: \" + str(base) + \"feet\")"
   ]
  },
  {
   "cell_type": "markdown",
   "metadata": {},
   "source": [
    "# 2.28"
   ]
  },
  {
   "cell_type": "code",
   "execution_count": 98,
   "metadata": {},
   "outputs": [
    {
     "data": {
      "text/plain": [
       "3"
      ]
     },
     "execution_count": 98,
     "metadata": {},
     "output_type": "execute_result"
    }
   ],
   "source": [
    "#timeTaken:1min\n",
    "lst = [3, 34, 2, 567, 34, 6, 576]\n",
    "lst.index(567)"
   ]
  },
  {
   "cell_type": "code",
   "execution_count": 99,
   "metadata": {},
   "outputs": [
    {
     "data": {
      "text/plain": [
       "567"
      ]
     },
     "execution_count": 99,
     "metadata": {},
     "output_type": "execute_result"
    }
   ],
   "source": [
    "#timeTaken:1min\n",
    "lst = [3, 34, 2, 567, 34, 6, 576]\n",
    "lst[3]"
   ]
  },
  {
   "cell_type": "code",
   "execution_count": 103,
   "metadata": {},
   "outputs": [
    {
     "name": "stdout",
     "output_type": "stream",
     "text": [
      "[576, 567, 34, 34, 6, 3, 2]\n"
     ]
    }
   ],
   "source": [
    "#timeTaken:2min\n",
    "lst = [3, 34, 2, 567, 34, 6, 576]\n",
    "lst.sort()\n",
    "\n",
    "lst.reverse()\n",
    "print(lst)"
   ]
  },
  {
   "cell_type": "code",
   "execution_count": 107,
   "metadata": {},
   "outputs": [
    {
     "name": "stdout",
     "output_type": "stream",
     "text": [
      "[34, 2, 567, 34, 6, 576, 3]\n"
     ]
    }
   ],
   "source": [
    "#timeTaken:3min\n",
    "lst = [3, 34, 2, 567, 34, 6, 576]\n",
    "lst.remove(3)\n",
    "lst.append(3)\n",
    "print(lst)"
   ]
  },
  {
   "cell_type": "markdown",
   "metadata": {},
   "source": [
    "# 2.29"
   ]
  },
  {
   "cell_type": "code",
   "execution_count": 108,
   "metadata": {},
   "outputs": [
    {
     "data": {
      "text/plain": [
       "True"
      ]
     },
     "execution_count": 108,
     "metadata": {},
     "output_type": "execute_result"
    }
   ],
   "source": [
    "#timeTaken:31sec\n",
    "#(a) 0 == 1 == 2\n",
    "0 < 1 < 2"
   ]
  },
  {
   "cell_type": "code",
   "execution_count": 109,
   "metadata": {},
   "outputs": [
    {
     "data": {
      "text/plain": [
       "True"
      ]
     },
     "execution_count": 109,
     "metadata": {},
     "output_type": "execute_result"
    }
   ],
   "source": [
    "#timeTaken:24sec\n",
    "#(b) 2+3 == 4+5 == 7\n",
    "2+3 != 9 != 7"
   ]
  },
  {
   "cell_type": "code",
   "execution_count": 110,
   "metadata": {},
   "outputs": [
    {
     "data": {
      "text/plain": [
       "True"
      ]
     },
     "execution_count": 110,
     "metadata": {},
     "output_type": "execute_result"
    }
   ],
   "source": [
    "#timeTaken: 35sec\n",
    "#(c) 1 < -1 == 3 > 4\n",
    "1 > -1 != 3 < 4"
   ]
  },
  {
   "cell_type": "markdown",
   "metadata": {},
   "source": [
    "# 2.30"
   ]
  },
  {
   "cell_type": "code",
   "execution_count": 112,
   "metadata": {},
   "outputs": [
    {
     "name": "stdout",
     "output_type": "stream",
     "text": [
      "['apple', 'ball', 'cat', 'daisey']\n"
     ]
    }
   ],
   "source": [
    "#timeTaken:\n",
    "a = 'apple'\n",
    "b = 'ball'\n",
    "c = 'cat'\n",
    "d = 'daisey'\n",
    "\n",
    "list = [a, b, c, d]\n",
    "print(list)"
   ]
  },
  {
   "cell_type": "code",
   "execution_count": null,
   "metadata": {},
   "outputs": [],
   "source": []
  }
 ],
 "metadata": {
  "kernelspec": {
   "display_name": "Python 3",
   "language": "python",
   "name": "python3"
  },
  "language_info": {
   "codemirror_mode": {
    "name": "ipython",
    "version": 3
   },
   "file_extension": ".py",
   "mimetype": "text/x-python",
   "name": "python",
   "nbconvert_exporter": "python",
   "pygments_lexer": "ipython3",
   "version": "3.7.3"
  }
 },
 "nbformat": 4,
 "nbformat_minor": 2
}
