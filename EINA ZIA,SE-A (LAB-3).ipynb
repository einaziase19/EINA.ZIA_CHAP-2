{
 "cells": [
  {
   "cell_type": "markdown",
   "metadata": {},
   "source": [
    "# EINA ZIA, SE-A (LAB-3)"
   ]
  },
  {
   "cell_type": "code",
   "execution_count": 1,
   "metadata": {},
   "outputs": [
    {
     "name": "stdout",
     "output_type": "stream",
     "text": [
      "Sum is: 32\n",
      "Difference is: -12\n",
      "Product is: 220\n",
      "Division is: 0.45454545454545453\n",
      "Integer Division is: 0\n",
      "Raised to the Power is: 10000000000000000000000\n",
      "Remainder is: 10\n"
     ]
    }
   ],
   "source": [
    "#PROB:1\n",
    "# Math Operators in Python\n",
    "# taking two values\n",
    "a = 10\n",
    "b = 22\n",
    "#Using sum operator\n",
    "print(\"Sum is:\", a+b)\n",
    "#Using subtract operator\n",
    "print(\"Difference is:\", a-b)\n",
    "#Using multiplication operator\n",
    "print(\"Product is:\", a*b)\n",
    "#Using division operator\n",
    "print(\"Division is:\", a/b)\n",
    "#Using integer division operator\n",
    "print(\"Integer Division is:\", a//b)\n",
    "#Using power operator\n",
    "print(\"Raised to the Power is:\", a**b)\n",
    "#Using modulo operator\n",
    "print(\"Remainder is:\", a%b)\n"
   ]
  },
  {
   "cell_type": "code",
   "execution_count": 4,
   "metadata": {},
   "outputs": [
    {
     "name": "stdout",
     "output_type": "stream",
     "text": [
      "8\n",
      "2\n",
      "15\n",
      "1.6666666666666667\n",
      "2\n",
      "1\n",
      "125\n",
      "1\n",
      "7\n",
      "6\n",
      "0\n",
      "40\n"
     ]
    }
   ],
   "source": [
    "#PROB:2\n",
    "x = 5\n",
    "x += 3\n",
    "print(x)\n",
    "\n",
    "x = 5\n",
    "x -= 3\n",
    "print(x)\n",
    "\n",
    "x = 5\n",
    "x *= 3\n",
    "print(x)\n",
    "\n",
    "x = 5\n",
    "x /= 3\n",
    "print(x)\n",
    "\n",
    "x = 5\n",
    "x %= 3\n",
    "print(x)\n",
    "\n",
    "x = 5\n",
    "x //= 3\n",
    "print(x)\n",
    "\n",
    "x = 5\n",
    "x **= 3\n",
    "print(x)\n",
    "\n",
    "x = 5\n",
    "x &= 3\n",
    "print(x)\n",
    "\n",
    "x = 5\n",
    "x |= 3\n",
    "print(x)\n",
    "\n",
    "x = 5\n",
    "x ^= 3\n",
    "print(x)\n",
    "\n",
    "x = 5\n",
    "x >>= 3\n",
    "print(x)\n",
    "\n",
    "x = 5\n",
    "x <<= 3\n",
    "print(x)\n"
   ]
  },
  {
   "cell_type": "code",
   "execution_count": 3,
   "metadata": {},
   "outputs": [
    {
     "name": "stdout",
     "output_type": "stream",
     "text": [
      "X is equal to Y: False\n",
      "X is not equal to Y: True\n",
      "X is Greater than Y: True\n",
      "X is Less than Y: False\n",
      "X is Greater than or equal to Y: True\n",
      "X is Less than or equal to Y: False\n"
     ]
    }
   ],
   "source": [
    "#PROB:3\n",
    "x = 20\n",
    "y = 15\n",
    "\n",
    "print(\"X is equal to Y:\", x == y)\n",
    "print(\"X is not equal to Y:\", x != y)\n",
    "print(\"X is Greater than Y:\", x > y)\n",
    "print(\"X is Less than Y:\", x < y)\n",
    "print(\"X is Greater than or equal to Y:\", x >= y)\n",
    "print(\"X is Less than or equal to Y:\", x <= y)\n"
   ]
  },
  {
   "cell_type": "code",
   "execution_count": 4,
   "metadata": {},
   "outputs": [
    {
     "name": "stdout",
     "output_type": "stream",
     "text": [
      "True\n",
      "True\n",
      "False\n"
     ]
    }
   ],
   "source": [
    "#PROB:4\n",
    "x = 15\n",
    "print(x > 13 and x < 20)\n",
    "\n",
    "x = 25\n",
    "print(x > 23 or x < 24)\n",
    "\n",
    "x = 35\n",
    "print(not(x > 33 and x < 40))\n"
   ]
  },
  {
   "cell_type": "code",
   "execution_count": 5,
   "metadata": {},
   "outputs": [
    {
     "name": "stdout",
     "output_type": "stream",
     "text": [
      "True\n",
      "False\n",
      "True\n"
     ]
    }
   ],
   "source": [
    "#PROB: 5\n",
    "x = [\"ahmed\", \"bashir\"]\n",
    "y = [\"ahmed\", \"bashir\"]\n",
    "z = x\n",
    "\n",
    "print(x is z)\n",
    "print(x is y)\n",
    "print(x == y)\n"
   ]
  },
  {
   "cell_type": "code",
   "execution_count": 6,
   "metadata": {},
   "outputs": [
    {
     "name": "stdout",
     "output_type": "stream",
     "text": [
      "False\n",
      "True\n",
      "False\n"
     ]
    }
   ],
   "source": [
    "#PROB: 6\n",
    "x = [\"ahmed\", \"bashir\"]\n",
    "y = [\"ahmed\", \"bashir\"]\n",
    "z = x\n",
    "\n",
    "print(x is not z)\n",
    "print(x is not y)\n",
    "print(x != y)\n"
   ]
  },
  {
   "cell_type": "code",
   "execution_count": 7,
   "metadata": {},
   "outputs": [
    {
     "name": "stdout",
     "output_type": "stream",
     "text": [
      "False\n",
      "True\n",
      "False\n"
     ]
    }
   ],
   "source": [
    "#practice\n",
    "x = [\"23\", \"5\"]\n",
    "y = [\"23\", \"5\"]\n",
    "z = x\n",
    "\n",
    "print(x is not z)\n",
    "print(x is not y)\n",
    "print(x != y)\n"
   ]
  },
  {
   "cell_type": "code",
   "execution_count": 8,
   "metadata": {},
   "outputs": [
    {
     "name": "stdout",
     "output_type": "stream",
     "text": [
      "True\n"
     ]
    }
   ],
   "source": [
    "#PROB:7\n",
    "x = [\"wasim\", \"lubaid\", \"shahroz\", \"usman\", \"faisal\", \"farhan\"]\n",
    "print(\"faisal\" in x)\n"
   ]
  },
  {
   "cell_type": "code",
   "execution_count": 9,
   "metadata": {},
   "outputs": [
    {
     "name": "stdout",
     "output_type": "stream",
     "text": [
      "True\n"
     ]
    }
   ],
   "source": [
    "#PROB:8\n",
    "x = [\"wasim\", \"lubaid\", \"shahroz\", \"usman\", \"faisal\", \"farhan\"]\n",
    "\n",
    "print(\"parkash\" not in x)\n"
   ]
  },
  {
   "cell_type": "code",
   "execution_count": 11,
   "metadata": {},
   "outputs": [
    {
     "name": "stdout",
     "output_type": "stream",
     "text": [
      "Give me a velocity to fire at (in m/s): 4\n",
      "Give me an angle to fire at: 35\n",
      "Give me how far away you are from the structure: 13\n",
      "Give me the height of the structure(in meters): 15\n",
      "Final velocity is found to be:38.316851286486376m/s\n"
     ]
    }
   ],
   "source": [
    "#PROB:9\n",
    "import math\n",
    "#User inputs\n",
    "velocity  = float(input('Give me a velocity to fire at (in m/s): '))\n",
    "angle = float(input('Give me an angle to fire at: '))\n",
    "distance  = float(input('Give me how far away you are from the structure: '))\n",
    "height = float(input('Give me the height of the structure(in meters): '))\n",
    "slingshot = 5 #Height of slingshot in meters\n",
    "gravity = 9.8 #Earth gravity\n",
    "\n",
    "#Converting angles to radians\n",
    "angleRad = math.radians(angle)\n",
    "\n",
    "#Computing our x and y coordinate\n",
    "x = math.cos(angleRad)\n",
    "y = math.sin(angleRad)\n",
    "\n",
    "#Calculations\n",
    "time = distance/(velocity * x)\n",
    "vx = x\n",
    "vy = y +(-9.8 * time)\n",
    "finalVelocity = math.sqrt((vx ** 2) + (vy ** 2))\n",
    "print('Final velocity is found to be:' + str(finalVelocity) + \"m/s\")\n"
   ]
  },
  {
   "cell_type": "code",
   "execution_count": 13,
   "metadata": {},
   "outputs": [
    {
     "name": "stdout",
     "output_type": "stream",
     "text": [
      "Give me a radius (in meters): 0.5\n",
      "The linear velocity of the ball is found to be:5.0m/s.\n"
     ]
    }
   ],
   "source": [
    "#Question-1\n",
    "import math\n",
    "#User input\n",
    "angularSpeed = 10 #Angular velocity in rad/s\n",
    "radius = float(input('Give me a radius (in meters): '))\n",
    "\n",
    "#Calculations\n",
    "linearVelocity = float(radius * angularSpeed)\n",
    "print('The linear velocity of the ball is found to be:' + str(linearVelocity) + \"m/s.\")"
   ]
  },
  {
   "cell_type": "code",
   "execution_count": 8,
   "metadata": {},
   "outputs": [
    {
     "name": "stdout",
     "output_type": "stream",
     "text": [
      "Give me a radius (in centimeters): 10\n",
      "The magnitude of the linear velocity is: 5233.0m/s\n"
     ]
    }
   ],
   "source": [
    "#Question-2\n",
    "import math\n",
    "#User input\n",
    "angularSpeed = 523.3 #Angular velocity in rad/s\n",
    "radius = float(input('Give me a radius (in centimeters): '))\n",
    "\n",
    "#Calculating\n",
    "linearVelocity = float(radius * angularSpeed)\n",
    "print('The magnitude of the linear velocity is: ' + str(linearVelocity) + \"m/s\")\n"
   ]
  },
  {
   "cell_type": "code",
   "execution_count": 12,
   "metadata": {},
   "outputs": [
    {
     "name": "stdout",
     "output_type": "stream",
     "text": [
      "Give raius (in meters): 0.3\n",
      "The magnitude of the angular velocity is: 33.333333333333336 1/s\n"
     ]
    }
   ],
   "source": [
    "#Question-3\n",
    "import math\n",
    "#User input\n",
    "linearVelocity = 10 #Linear velocity in meter/second\n",
    "radius = float(input('Give raius (in meters): '))\n",
    "\n",
    "#Calculating\n",
    "angularVelocity = float(linearVelocity / radius)\n",
    "print('The magnitude of the angular velocity is: ' + str(angularVelocity) + \" 1/s\")"
   ]
  },
  {
   "cell_type": "code",
   "execution_count": 14,
   "metadata": {},
   "outputs": [
    {
     "name": "stdout",
     "output_type": "stream",
     "text": [
      "The a angular speed is: 40.0 1/s\n"
     ]
    }
   ],
   "source": [
    "#Question-4\n",
    "import math\n",
    "#User input\n",
    "linearSpeed = 10 #Linear speed meters/second\n",
    "radius = 0.25 #Radius in meter\n",
    "\n",
    "#Calculating\n",
    "angularSpeed = float(linearSpeed / radius)\n",
    "print('The a angular speed is: ' + str(angularSpeed) + \" 1/s\")"
   ]
  },
  {
   "cell_type": "code",
   "execution_count": 15,
   "metadata": {},
   "outputs": [
    {
     "name": "stdout",
     "output_type": "stream",
     "text": [
      "The distance of the car in 10 seconds is found to be:25.120000000000005 m\n"
     ]
    }
   ],
   "source": [
    "#Question-5\n",
    "import math\n",
    "#User input\n",
    "angularSpeed = 12.56 #Aangular speed in radian/second\n",
    "radius = 0.2 #Radius in meters\n",
    "\n",
    "#Computing linear speed\n",
    "linearSpeed = (radius * angularSpeed)\n",
    "\n",
    "#Computing distance\n",
    "time = 10 #Time in seconds\n",
    "distance = (linearSpeed * time)\n",
    "print('The distance of the car in 10 seconds is found to be:' + str(distance) + \" m\")\n"
   ]
  },
  {
   "cell_type": "code",
   "execution_count": 1,
   "metadata": {},
   "outputs": [
    {
     "name": "stdout",
     "output_type": "stream",
     "text": [
      "The distance in 2 hours is found to be:15.0 miles\n"
     ]
    }
   ],
   "source": [
    "#Question-6\n",
    "import math\n",
    "#User input\n",
    "finalVelocity = 50 #final velocity in miles per hour\n",
    "acceleration = 10 #acceleration in miles per square hours\n",
    "time = 2 #time is hours\n",
    "\n",
    "#Calculating initial velocity\n",
    "initialVelocity = finalVelocity - (acceleration * time)\n",
    "\n",
    "#computing distance\n",
    "distance = (initialVelocity / time)\n",
    "print('The distance in 2 hours is found to be:' + str(distance) + \" miles\")\n",
    "\n",
    "\n"
   ]
  },
  {
   "cell_type": "code",
   "execution_count": 5,
   "metadata": {},
   "outputs": [
    {
     "name": "stdout",
     "output_type": "stream",
     "text": [
      "The velocity with which the stone will hit the ground is found to be:44.721359549995796 ft/s\n"
     ]
    }
   ],
   "source": [
    "#Question-7\n",
    "import math\n",
    "#User input\n",
    "initialVelocity = 0 #initial velocity in feet per second\n",
    "height = 100 #height in feet\n",
    "earthGravity = 32 #earth gravity in feet per second square\n",
    "\n",
    "#calculating\n",
    "finalVelocity = math.sqrt(2 * acceleration * 100)\n",
    "print('The velocity with which the stone will hit the ground is found to be:' + str(finalVelocity) + \" ft/s\")"
   ]
  },
  {
   "cell_type": "code",
   "execution_count": null,
   "metadata": {},
   "outputs": [],
   "source": []
  },
  {
   "cell_type": "code",
   "execution_count": null,
   "metadata": {},
   "outputs": [],
   "source": []
  }
 ],
 "metadata": {
  "kernelspec": {
   "display_name": "Python 3",
   "language": "python",
   "name": "python3"
  },
  "language_info": {
   "codemirror_mode": {
    "name": "ipython",
    "version": 3
   },
   "file_extension": ".py",
   "mimetype": "text/x-python",
   "name": "python",
   "nbconvert_exporter": "python",
   "pygments_lexer": "ipython3",
   "version": "3.7.3"
  }
 },
 "nbformat": 4,
 "nbformat_minor": 2
}
