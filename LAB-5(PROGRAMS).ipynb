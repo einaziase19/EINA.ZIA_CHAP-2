{
 "cells": [
  {
   "cell_type": "markdown",
   "metadata": {},
   "source": [
    "# EINA ZIA, 19B-024-SE, SEC-A"
   ]
  },
  {
   "cell_type": "code",
   "execution_count": 6,
   "metadata": {},
   "outputs": [
    {
     "name": "stdout",
     "output_type": "stream",
     "text": [
      "94.24777960769379\n",
      "3619.1147369354417\n"
     ]
    }
   ],
   "source": [
    "#Q1\n",
    "#timeTaken:7min\n",
    "import math\n",
    "def area(r, h):\n",
    "    res = (2 * math.pi * h) + (2 * r**2 * math.pi)\n",
    "    print(res)\n",
    "area(3, 6)\n",
    "\n",
    "def volume(r, h):\n",
    "    res1 =(math.pi * r**2 * h)\n",
    "    print(res1)\n",
    "volume(12, 8)\n"
   ]
  },
  {
   "cell_type": "code",
   "execution_count": 10,
   "metadata": {},
   "outputs": [
    {
     "name": "stdout",
     "output_type": "stream",
     "text": [
      "48\n",
      "64\n"
     ]
    }
   ],
   "source": [
    "#Q2\n",
    "#timeTaken:17min\n",
    "import math\n",
    "def area(l, w):\n",
    "    res = l * w\n",
    "    print(res)\n",
    "area(12, 4)\n",
    "def volume(l, h, w):\n",
    "    res1 = (l * h * w)\n",
    "    print(res1)\n",
    "volume(8, 4, 2)"
   ]
  },
  {
   "cell_type": "code",
   "execution_count": 14,
   "metadata": {},
   "outputs": [
    {
     "name": "stdout",
     "output_type": "stream",
     "text": [
      "Do you want to continue? yes or no? yes\n"
     ]
    }
   ],
   "source": [
    "#Q3\n",
    "#timeTaken:25min\n",
    "def an(a, d, n):\n",
    "    res = a + (n-1) * d\n",
    "    return res\n",
    "    print(res)\n",
    "an(2, 4, 3)\n",
    "\n",
    "ask = input(\"Do you want to continue? yes or no? \")\n",
    "if ask == 'yes':\n",
    "     def an(a, d, n):\n",
    "        res = a + (n-1) * d\n",
    "        return res\n",
    "        print(res)\n",
    "     an(5, 7, 2)\n",
    "\n",
    "else:\n",
    "    print('You are done!')"
   ]
  },
  {
   "cell_type": "code",
   "execution_count": 5,
   "metadata": {},
   "outputs": [
    {
     "data": {
      "text/plain": [
       "10"
      ]
     },
     "execution_count": 5,
     "metadata": {},
     "output_type": "execute_result"
    }
   ],
   "source": [
    "#Q3\n",
    "#timeTaken:29min\n",
    "def an(a, d, n):\n",
    "    res = a + (n-1) * d\n",
    "    return res\n",
    "    print(res)\n",
    "an(2, 4, 3)\n",
    "\n",
    "\n"
   ]
  },
  {
   "cell_type": "code",
   "execution_count": 6,
   "metadata": {},
   "outputs": [
    {
     "name": "stdout",
     "output_type": "stream",
     "text": [
      "Do you want to continue? yes or no? yes\n"
     ]
    },
    {
     "data": {
      "text/plain": [
       "12"
      ]
     },
     "execution_count": 6,
     "metadata": {},
     "output_type": "execute_result"
    }
   ],
   "source": [
    "#Q3\n",
    "#timeTaken: 56min\n",
    "ask = input(\"Do you want to continue? yes or no? \")\n",
    "if ask == 'yes':\n",
    " def an(a, d, n):\n",
    "    res = a + (n-1) * d\n",
    "    return res\n",
    "    print(res)\n",
    "an(5, 7, 2)"
   ]
  },
  {
   "cell_type": "code",
   "execution_count": 8,
   "metadata": {},
   "outputs": [
    {
     "name": "stdout",
     "output_type": "stream",
     "text": [
      "Enter a string: madam\n",
      "<reversed object at 0x000000C0B648AC18>\n",
      "Sorry.\n"
     ]
    }
   ],
   "source": [
    "#Q4\n",
    "my_string = input(\"Enter a string: \")\n",
    "my_string.casefold()\n",
    "mstring = reversed(my_string)\n",
    "print(mstring)\n",
    "if my_string == mstring:\n",
    "    print(\"Your string is Palindrome.\")\n",
    "else:\n",
    "    print(\"Sorry.\")"
   ]
  },
  {
   "cell_type": "code",
   "execution_count": 1,
   "metadata": {},
   "outputs": [
    {
     "name": "stdout",
     "output_type": "stream",
     "text": [
      "Enter marksheet number:123\n",
      "BOARD OF INTERMEDIATE EDUCATION OG KARACHI:\n",
      "INTERMEDIATE EXAMINATION (ANNUAL-2019)\n",
      "STATEMENT OF MARKS\n",
      "Enter group:PRE-ENGINEERING\n",
      "Enter roll number:890\n",
      "Enter enrollment number: 5768\n",
      "Enter name:EINA ZAI\n",
      "Enter father name:ZIA ABBASI\n",
      "Enter college name:GULSHAN COLLEGE\n"
     ]
    },
    {
     "data": {
      "text/plain": [
       "79.0"
      ]
     },
     "execution_count": 1,
     "metadata": {},
     "output_type": "execute_result"
    }
   ],
   "source": [
    "#Q5\n",
    "#timeTaken:\n",
    "markSheet = input(\"Enter marksheet number:\")\n",
    "print(\"BOARD OF INTERMEDIATE EDUCATION OG KARACHI:\")\n",
    "print('INTERMEDIATE EXAMINATION (ANNUAL-2019)')\n",
    "\n",
    "print('STATEMENT OF MARKS')\n",
    "group = input('Enter group:')\n",
    "rollNumber = input('Enter roll number:')\n",
    "enrollmentNumber = input('Enter enrollment number: ')\n",
    "name = input('Enter name:')\n",
    "fatherName = input('Enter father name:')\n",
    "college = input('Enter college name:')\n",
    "\n",
    "def marks(math, phy, chem, urdu, eng):\n",
    "    total = int(math + phy + chem + urdu + eng)\n",
    "    return total\n",
    "marks(94, 75, 75, 80, 71)\n",
    "\n",
    "def percentage(marks):\n",
    "    percent = (marks/500) * 100\n",
    "    return percent\n",
    "percentage(395)"
   ]
  },
  {
   "cell_type": "code",
   "execution_count": 7,
   "metadata": {},
   "outputs": [
    {
     "data": {
      "text/plain": [
       "587"
      ]
     },
     "execution_count": 7,
     "metadata": {},
     "output_type": "execute_result"
    }
   ],
   "source": [
    "#Q6\n",
    "#timeTaken:8min\n",
    "#1st law of motion:.\n",
    "import math\n",
    "def vf(vi, a, t):\n",
    "    res = vi + (a * t)\n",
    "    return res\n",
    "    print(res)\n",
    "vf(2, 13, 45) #in m/s\n"
   ]
  },
  {
   "cell_type": "code",
   "execution_count": 8,
   "metadata": {},
   "outputs": [
    {
     "data": {
      "text/plain": [
       "10.833333333333334"
      ]
     },
     "execution_count": 8,
     "metadata": {},
     "output_type": "execute_result"
    }
   ],
   "source": [
    "#Q6\n",
    "#timeTaken:7min\n",
    "#2nd law of motion.\n",
    "def a(s, vf, vi):\n",
    "    res1 = (vf**2 - vi**2)/(2 * s)\n",
    "    return res1\n",
    "    print(res1)\n",
    "a(3, 9, 4) #in m/sq.s\n"
   ]
  },
  {
   "cell_type": "code",
   "execution_count": 9,
   "metadata": {},
   "outputs": [
    {
     "data": {
      "text/plain": [
       "4.5"
      ]
     },
     "execution_count": 9,
     "metadata": {},
     "output_type": "execute_result"
    }
   ],
   "source": [
    "#Q6\n",
    "#timeTaken: 5min\n",
    "#3rd law of motion\n",
    "def s(vi, t, a):\n",
    "    res2 = (vi*t)+((1/2)*(a* t))\n",
    "    return res2\n",
    "    print(res2)\n",
    "s(2, 1, 5) #in metres\n"
   ]
  },
  {
   "cell_type": "code",
   "execution_count": 11,
   "metadata": {},
   "outputs": [
    {
     "data": {
      "text/plain": [
       "0.36489659738798275"
      ]
     },
     "execution_count": 11,
     "metadata": {},
     "output_type": "execute_result"
    }
   ],
   "source": [
    "#Q7\n",
    "#timeTaken:9min\n",
    "#time period of projectile\n",
    "import math\n",
    "def timeP(u, g, ang):\n",
    "    T = (2*u*math.sin(ang))/g\n",
    "    return T\n",
    "timeP(2, 9.8, 90) #in seconds"
   ]
  },
  {
   "cell_type": "code",
   "execution_count": 14,
   "metadata": {},
   "outputs": [
    {
     "data": {
      "text/plain": [
       "64.2286066344683"
      ]
     },
     "execution_count": 14,
     "metadata": {},
     "output_type": "execute_result"
    }
   ],
   "source": [
    "#Q7\n",
    "#timeTaken:4min\n",
    "#horizontal velocity\n",
    "import math\n",
    "def velocityI(u, ang, t, g):\n",
    "    ini_vel = (u*math.sin(ang)) - (g*t)\n",
    "    return ini_vel\n",
    "velocityI(87, 45,9.8, 1) #in m/s"
   ]
  },
  {
   "cell_type": "code",
   "execution_count": 15,
   "metadata": {},
   "outputs": [
    {
     "data": {
      "text/plain": [
       "8.509035245341183"
      ]
     },
     "execution_count": 15,
     "metadata": {},
     "output_type": "execute_result"
    }
   ],
   "source": [
    "#Q7\n",
    "#timeTaken:3min\n",
    "#height of projectile\n",
    "import math\n",
    "def height(u, ang, g):\n",
    "    h = (u**2 * math.sin(ang))/(2*g)\n",
    "    return h\n",
    "height(14, 45, 9.8) #in meters\n"
   ]
  },
  {
   "cell_type": "code",
   "execution_count": 16,
   "metadata": {},
   "outputs": [
    {
     "data": {
      "text/plain": [
       "8.068645480287126"
      ]
     },
     "execution_count": 16,
     "metadata": {},
     "output_type": "execute_result"
    }
   ],
   "source": [
    "#Q7\n",
    "#timeTaken:5min\n",
    "#range of projectile\n",
    "import math\n",
    "def rang(u, ang, g):\n",
    "    ran = (u**2 * math.sin(ang)**2) / g\n",
    "    return ran\n",
    "rang(9, 30, 9.8) #in meters"
   ]
  },
  {
   "cell_type": "code",
   "execution_count": 20,
   "metadata": {},
   "outputs": [
    {
     "data": {
      "text/plain": [
       "'aniE'"
      ]
     },
     "execution_count": 20,
     "metadata": {},
     "output_type": "execute_result"
    }
   ],
   "source": [
    "#Q8\n",
    "#timeTaken:3min\n",
    "#A function which takes my name\n",
    "def my_string(name):\n",
    "    full_name = name[::-1]\n",
    "    return full_name\n",
    "my_string('Eina')\n"
   ]
  },
  {
   "cell_type": "code",
   "execution_count": 36,
   "metadata": {},
   "outputs": [
    {
     "name": "stdout",
     "output_type": "stream",
     "text": [
      "['K', 'h', 'r', 'v', 'w', 'x', 'g', 'h', 'q', 'w', 'v']\n"
     ]
    }
   ],
   "source": [
    "#Q9\n",
    "#timeTaken:\n",
    "#encrypt a message\n",
    "def caesar_encrypt(text, step):\n",
    "    outText = []\n",
    "    cryptText = []\n",
    "    \n",
    "    uppercase = ['A', 'B', 'C', 'D', 'E', 'F', 'G', 'H', 'I', 'J', 'K', 'L', 'M', 'N', 'O', 'P', 'Q', 'R', 'S', 'T', 'U', 'V', 'W', 'X', 'Y', 'Z']\n",
    "    lowercase = ['a', 'b', 'c', 'd', 'e', 'f', 'g', 'h', 'i', 'j', 'k', 'j', 'm', 'n', 'o', 'p', 'q', 'r', 's', 't', 'u', 'v', 'w', 'x', 'y', 'z']\n",
    "    \n",
    "    for eachLetter in text:\n",
    "        if eachLetter in uppercase:\n",
    "            index = uppercase.index(eachLetter)\n",
    "            encrypting = (index + step) %26\n",
    "            cryptText.append(encrypting)\n",
    "            newLetter = uppercase[encrypting]\n",
    "            outText.append(newLetter)\n",
    "        elif eachLetter in lowercase:\n",
    "            index = lowercase.index(eachLetter)\n",
    "            crypting = (index + step)%26\n",
    "            cryptText.append(crypting)\n",
    "            newLetter = lowercase[crypting]\n",
    "            outText.append(newLetter)\n",
    "    print(outText)\n",
    "    return\n",
    "caesar_encrypt(\"Hello students.\", 3)"
   ]
  },
  {
   "cell_type": "code",
   "execution_count": 30,
   "metadata": {},
   "outputs": [
    {
     "name": "stdout",
     "output_type": "stream",
     "text": [
      "-0.9880316240928618 , 0.15425144988758405 , -6.405331196646276 , "
     ]
    }
   ],
   "source": [
    "#Q10\n",
    "#timeTaken:20min\n",
    "#generating a table of sin(), cos(), tan(), with user defined range\n",
    "from math import sin, cos, tan\n",
    "def functions(SV, EV):\n",
    "    for i in range(SV, EV):\n",
    "        Sin = sin(i)\n",
    "        print(Sin, end = ' , ')\n",
    "        Cos = cos(i)\n",
    "        print(Cos, end = ' , ')\n",
    "        Tan = tan(i)\n",
    "        print(Tan, end = ' , ')\n",
    "        return\n",
    "functions(30, 60)"
   ]
  },
  {
   "cell_type": "code",
   "execution_count": 35,
   "metadata": {
    "scrolled": true
   },
   "outputs": [
    {
     "name": "stdout",
     "output_type": "stream",
     "text": [
      "Area including semi-circle is: 153.93804002589985 cm^2\n",
      "Area excluding semi-circle is: 76.96902001294993 cm^2\n",
      "Perimeter including semi-circle is: 98.96016858807847 cm\n",
      "Perimeter excluding semi-circle is: 112.96016858807847 cm\n"
     ]
    }
   ],
   "source": [
    "#Q11\n",
    "#timeTaken:\n",
    "#semi-circle\n",
    "from math import pi\n",
    "def semi_circle(R, r):\n",
    "    R = 14/2\n",
    "    r = R/2\n",
    "    include_area = pi * R**2\n",
    "    exclude_area = (pi * R**2) - (pi * r**2) - (pi * r**2)\n",
    "    Arc_length = pi * R\n",
    "    arc_length = pi * r**2\n",
    "    print(\"Area including semi-circle is:\", str(include_area) + ' ' + 'cm^2')\n",
    "    print(\"Area excluding semi-circle is:\", str(exclude_area) + ' ' + 'cm^2')\n",
    "    print(\"Perimeter including semi-circle is:\", Arc_length+arc_length+arc_length, 'cm')\n",
    "    print(\"Perimeter excluding semi-circle is:\", Arc_length+arc_length+arc_length+(R*2), 'cm')\n",
    "    return\n",
    "semi_circle(23, 12)"
   ]
  }
 ],
 "metadata": {
  "kernelspec": {
   "display_name": "Python 3",
   "language": "python",
   "name": "python3"
  },
  "language_info": {
   "codemirror_mode": {
    "name": "ipython",
    "version": 3
   },
   "file_extension": ".py",
   "mimetype": "text/x-python",
   "name": "python",
   "nbconvert_exporter": "python",
   "pygments_lexer": "ipython3",
   "version": "3.7.3"
  }
 },
 "nbformat": 4,
 "nbformat_minor": 2
}
