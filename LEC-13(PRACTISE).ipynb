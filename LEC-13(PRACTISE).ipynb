{
 "cells": [
  {
   "cell_type": "code",
   "execution_count": 1,
   "metadata": {},
   "outputs": [
    {
     "name": "stdout",
     "output_type": "stream",
     "text": [
      "capitalize string. Eina zia\n",
      "count occurance of the regd string 1\n",
      "find the string 2\n",
      "lower case eina zia\n",
      "replace strings enNa ziA\n",
      "translate eINa ziA\n",
      "split ['eINa', 'ziA']\n",
      "strip eINa ziA\n",
      "upper case EINA ZIA\n"
     ]
    }
   ],
   "source": [
    "e = 'eINa ziA'\n",
    "print(\"capitalize string.\", e.capitalize())\n",
    "print(\"count occurance of the regd string\", e.count('z'))\n",
    "print(\"find the string\", e.find('N'))\n",
    "print(\"lower case\", e.lower())\n",
    "print(\"replace strings\", e.replace('I', 'n'))\n",
    "print(\"translate\", e.translate('N'))\n",
    "print(\"split\", e.split())\n",
    "print(\"strip\", e.strip())\n",
    "print(\"upper case\", e.upper())\n"
   ]
  },
  {
   "cell_type": "code",
   "execution_count": 2,
   "metadata": {},
   "outputs": [
    {
     "name": "stdout",
     "output_type": "stream",
     "text": [
      "4\n",
      "4 1.3333333333333333\n",
      "4 1.3333333333333333 Eina\n",
      "4,1.3333333333333333,Eina\n",
      "4@1.3333333333333333@Eina\n",
      "4\n",
      "1.3333333333333333\n",
      "Eina\n",
      "4\t1.3333333333333333\tEina\n"
     ]
    }
   ],
   "source": [
    "n = 4\n",
    "print(n)\n",
    "a = 4/3\n",
    "print(n, a)\n",
    "name = 'Eina'\n",
    "print(n, a, name)\n",
    "print(n, a, name, sep=',')\n",
    "print(n, a, name, sep='@')\n",
    "print(n, a, name, sep='\\n')\n",
    "print(n, a, name, sep='\\t')\n"
   ]
  },
  {
   "cell_type": "code",
   "execution_count": 3,
   "metadata": {},
   "outputs": [
    {
     "name": "stdout",
     "output_type": "stream",
     "text": [
      "Tuesday, November-26-2019, 8:19:23\n"
     ]
    }
   ],
   "source": [
    "weekday = 'Tuesday'\n",
    "month = 'November'\n",
    "day = 26\n",
    "year = 2019\n",
    "hour = 8\n",
    "minute = 19\n",
    "seconds = 23\n",
    "\n",
    "print(weekday+', '+month+'-'+str(day)+'-'+str(year)+', '+str(hour)+':'+str(minute)+':'+str(seconds))\n"
   ]
  },
  {
   "cell_type": "code",
   "execution_count": 5,
   "metadata": {},
   "outputs": [
    {
     "name": "stdout",
     "output_type": "stream",
     "text": [
      "8: 26: 52\n"
     ]
    }
   ],
   "source": [
    "hour = 8\n",
    "minute = 26\n",
    "seconds = 52\n",
    "\n",
    "print( '{0}: {1}: {2}'.format(hour, minute, seconds))"
   ]
  },
  {
   "cell_type": "code",
   "execution_count": 7,
   "metadata": {},
   "outputs": [
    {
     "name": "stdout",
     "output_type": "stream",
     "text": [
      "hour8: minute27: seconds34\n",
      "In default setting.\n",
      "hour8: minute27: seconds34\n"
     ]
    }
   ],
   "source": [
    "hour = 8\n",
    "minute = 27\n",
    "seconds = 34\n",
    "\n",
    "print('hour{0}: minute{1}: seconds{2}'.format(hour, minute, seconds))\n",
    "\n",
    "print(\"In default setting.\")\n",
    "print('hour{}: minute{}: seconds{}'.format(hour, minute, seconds))\n",
    "\n"
   ]
  },
  {
   "cell_type": "code",
   "execution_count": 9,
   "metadata": {},
   "outputs": [
    {
     "name": "stdout",
     "output_type": "stream",
     "text": [
      "Tuesday, November 26 2019 at 8:35:41\n"
     ]
    }
   ],
   "source": [
    "weekday = 'Tuesday'\n",
    "month = 'November'\n",
    "day = 26\n",
    "year = 2019\n",
    "hour = 8\n",
    "minute = 35\n",
    "second = 41\n",
    "\n",
    "print('{}, {} {} {} at {}:{}:{}'.format(weekday, month, day, year, hour, minute, second))"
   ]
  },
  {
   "cell_type": "code",
   "execution_count": 10,
   "metadata": {},
   "outputs": [
    {
     "name": "stdout",
     "output_type": "stream",
     "text": [
      "i i**2 i**3 2**i\n",
      "1  1  1  2\n",
      "2  4  8  4\n",
      "3  9  27  8\n",
      "4  16  64  16\n",
      "5  25  125  32\n",
      "6  36  216  64\n",
      "7  49  343  128\n",
      "8  64  512  256\n",
      "9  81  729  512\n",
      "10  100  1000  1024\n",
      "11  121  1331  2048\n",
      "12  144  1728  4096\n"
     ]
    }
   ],
   "source": [
    "print('i i**2 i**3 2**i')\n",
    "\n",
    "for i in range(1, 13):\n",
    "    print(i, i**2, i**3, 2**i, sep='  ')"
   ]
  },
  {
   "cell_type": "code",
   "execution_count": 14,
   "metadata": {},
   "outputs": [
    {
     "name": "stdout",
     "output_type": "stream",
     "text": [
      "i    i**2    i**3     2**i\n",
      " 1      1      1      2\n",
      " 2      4      8      4\n",
      " 3      9     27      8\n",
      " 4     16     64     16\n",
      " 5     25    125     32\n",
      " 6     36    216     64\n",
      " 7     49    343    128\n",
      " 8     64    512    256\n",
      " 9     81    729    512\n",
      "10    100   1000   1024\n",
      "11    121   1331   2048\n",
      "12    144   1728   4096\n"
     ]
    }
   ],
   "source": [
    "def growrates(n):\n",
    "    print('i    i**2    i**3     2**i')\n",
    "    formatstring = '{0:2d} {1:6d} {2:6d} {3:6d}'\n",
    "    for i in range(1, n+1):\n",
    "        print(formatstring.format(i, i**2, i**3, 2**i))\n",
    "growrates(12)\n",
    "    "
   ]
  },
  {
   "cell_type": "code",
   "execution_count": null,
   "metadata": {},
   "outputs": [],
   "source": []
  }
 ],
 "metadata": {
  "kernelspec": {
   "display_name": "Python 3",
   "language": "python",
   "name": "python3"
  },
  "language_info": {
   "codemirror_mode": {
    "name": "ipython",
    "version": 3
   },
   "file_extension": ".py",
   "mimetype": "text/x-python",
   "name": "python",
   "nbconvert_exporter": "python",
   "pygments_lexer": "ipython3",
   "version": "3.7.3"
  }
 },
 "nbformat": 4,
 "nbformat_minor": 2
}
