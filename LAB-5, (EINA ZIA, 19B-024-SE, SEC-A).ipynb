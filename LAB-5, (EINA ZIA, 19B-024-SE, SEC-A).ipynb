{
 "cells": [
  {
   "cell_type": "markdown",
   "metadata": {},
   "source": [
    "# EINA ZIA, 19B-024-SE, SEC-A"
   ]
  },
  {
   "cell_type": "code",
   "execution_count": null,
   "metadata": {},
   "outputs": [
    {
     "name": "stdout",
     "output_type": "stream",
     "text": [
      "Enter your final condition where you want to break the loop: 5\n",
      "The value of count: 1\n",
      "I am using while loop 2 time.\n",
      "The value of count: 2\n",
      "I am using while loop 3 time.\n",
      "The value of count: 3\n",
      "I am using while loop 4 time.\n",
      "The value of count: 4\n",
      "I am using while loop 5 time.\n"
     ]
    }
   ],
   "source": [
    "#PROG-1\n",
    "#timeTaken:3min\n",
    "count = 1\n",
    "f = eval(input(\"Enter your final condition where you want to break the loop: \"))\n",
    "\n",
    "while(count<f):\n",
    "    print(\"The value of count:\", count)\n",
    "    count = count + 1\n",
    "    print(\"I am using while loop\", count, \"time.\")"
   ]
  },
  {
   "cell_type": "code",
   "execution_count": null,
   "metadata": {},
   "outputs": [
    {
     "name": "stdout",
     "output_type": "stream",
     "text": [
      "Enter a number :4\n",
      "You entered:  4\n",
      "Enter a number :5\n"
     ]
    }
   ],
   "source": [
    "#PROG-2\n",
    "#timeTaken:7min\n",
    "var = 1\n",
    "while var == 1: #This will generate an infinite loop, as condition is always true\n",
    "    num = eval(input(\"Enter a number :\"))\n",
    "    print(\"You entered: \",num)\n",
    "    \n",
    "print(\"End of loop!\")\n",
    "#use Ctrl+C to break the Loop"
   ]
  },
  {
   "cell_type": "code",
   "execution_count": 1,
   "metadata": {},
   "outputs": [
    {
     "name": "stdout",
     "output_type": "stream",
     "text": [
      "Enter the value to execute the while loop:2\n",
      "The sum is 3\n"
     ]
    }
   ],
   "source": [
    "#PROG-3\n",
    "#timeTaken:3min\n",
    "n = eval(input(\"Enter the value to execute the while loop:\"))\n",
    "sum = 0\n",
    "i = 1\n",
    "while i <= n:\n",
    "    sum = sum + i\n",
    "    i = i + 1\n",
    "print(\"The sum is\", sum)"
   ]
  },
  {
   "cell_type": "code",
   "execution_count": 2,
   "metadata": {},
   "outputs": [
    {
     "name": "stdout",
     "output_type": "stream",
     "text": [
      "0 is less than final condition\n",
      "1 is less than final condition\n",
      "2 is less than final condition\n",
      "3 is less than final condition\n",
      "4 is less than final condition\n",
      "5 is less than final condition\n",
      "6 is less than final condition\n",
      "7 is less than final condition\n",
      "8 is less than final condition\n",
      "9 is less than final condition\n",
      "10 is not less than final condition\n"
     ]
    }
   ],
   "source": [
    "#PROG-4\n",
    "#timeTaken:7min\n",
    "i = 0\n",
    "f = 10\n",
    "while i < f:\n",
    "    print(i, \"is less than final condition\")\n",
    "    i = i + 1\n",
    "else:\n",
    "    print(i, \"is not less than final condition\")"
   ]
  },
  {
   "cell_type": "code",
   "execution_count": 1,
   "metadata": {},
   "outputs": [
    {
     "data": {
      "text/plain": [
       "17"
      ]
     },
     "execution_count": 1,
     "metadata": {},
     "output_type": "execute_result"
    }
   ],
   "source": [
    "#PROG-5\n",
    "#timeTaken:2min\n",
    "def f(x):\n",
    "    res = int(x**2 + 1)\n",
    "    return res\n",
    "f(4)"
   ]
  },
  {
   "cell_type": "code",
   "execution_count": 24,
   "metadata": {},
   "outputs": [
    {
     "name": "stdout",
     "output_type": "stream",
     "text": [
      "['K', 'h', 'r', 'v', 'w', 'x', 'g', 'h', 'q', 'w', 'v']\n"
     ]
    }
   ],
   "source": [
    "#PROG-7\n",
    "#timeTaken:35min\n",
    "def caesar_encrypt(text, step):\n",
    "    outText = []\n",
    "    cryptText = []\n",
    "    \n",
    "    uppercase = ['A', 'B', 'C', 'D', 'E', 'F', 'G', 'H', 'I', 'J', 'K', 'L', 'M', 'N', 'O', 'P', 'Q', 'R', 'S', 'T', 'U', 'V', 'W', 'X', 'Y', 'Z']\n",
    "    lowercase = ['a', 'b', 'c', 'd', 'e', 'f', 'g', 'h', 'i', 'j', 'k', 'j', 'm', 'n', 'o', 'p', 'q', 'r', 's', 't', 'u', 'v', 'w', 'x', 'y', 'z']\n",
    "    \n",
    "    for eachLetter in text:\n",
    "        if eachLetter in uppercase:\n",
    "            index = uppercase.index(eachLetter)\n",
    "            encrypting = (index + step) %26\n",
    "            cryptText.append(encrypting)\n",
    "            newLetter = uppercase[encrypting]\n",
    "            outText.append(newLetter)\n",
    "        elif eachLetter in lowercase:\n",
    "            index = lowercase.index(eachLetter)\n",
    "            crypting = (index + step)%26\n",
    "            cryptText.append(crypting)\n",
    "            newLetter = lowercase[crypting]\n",
    "            outText.append(newLetter)\n",
    "    print(outText)\n",
    "    return\n",
    "caesar_encrypt(\"Hello students.\", 3)"
   ]
  },
  {
   "cell_type": "code",
   "execution_count": 7,
   "metadata": {},
   "outputs": [
    {
     "name": "stdout",
     "output_type": "stream",
     "text": [
      "[1]\n",
      "[1]\n",
      "[1, 8]\n",
      "[1, 8]\n",
      "[1, 8, 27]\n",
      "[1, 8, 27]\n",
      "[1, 8, 27, 64]\n",
      "[1, 8, 27, 64]\n",
      "[1, 8, 27, 64, 125]\n",
      "[1, 8, 27, 64, 125]\n",
      "[1, 8, 27, 64, 125, 216]\n",
      "[1, 8, 27, 64, 125, 216]\n",
      "[1, 8, 27, 64, 125, 216]\n",
      "[8, 27, 64, 125, 216, 343]\n",
      "[1, 8, 27, 64, 125, 216]\n",
      "[27, 64, 125, 216, 343, 512]\n",
      "[1, 8, 27, 64, 125, 216]\n",
      "[64, 125, 216, 343, 512, 729]\n",
      "[1, 8, 27, 64, 125, 216]\n",
      "[125, 216, 343, 512, 729, 1000]\n",
      "[1, 8, 27, 64, 125, 216]\n",
      "[216, 343, 512, 729, 1000, 1331]\n",
      "[1, 8, 27, 64, 125, 216]\n",
      "[343, 512, 729, 1000, 1331, 1728]\n",
      "[1, 8, 27, 64, 125, 216]\n",
      "[512, 729, 1000, 1331, 1728, 2197]\n",
      "[1, 8, 27, 64, 125, 216]\n",
      "[729, 1000, 1331, 1728, 2197, 2744]\n",
      "[1, 8, 27, 64, 125, 216]\n",
      "[1000, 1331, 1728, 2197, 2744, 3375]\n",
      "[1, 8, 27, 64, 125, 216]\n",
      "[1331, 1728, 2197, 2744, 3375, 4096]\n",
      "[1, 8, 27, 64, 125, 216]\n",
      "[1728, 2197, 2744, 3375, 4096, 4913]\n",
      "[1, 8, 27, 64, 125, 216]\n",
      "[2197, 2744, 3375, 4096, 4913, 5832]\n",
      "[1, 8, 27, 64, 125, 216]\n",
      "[2744, 3375, 4096, 4913, 5832, 6859]\n",
      "[1, 8, 27, 64, 125, 216]\n",
      "[3375, 4096, 4913, 5832, 6859, 8000]\n",
      "[1, 8, 27, 64, 125, 216]\n",
      "[4096, 4913, 5832, 6859, 8000, 9261]\n",
      "[1, 8, 27, 64, 125, 216]\n",
      "[4913, 5832, 6859, 8000, 9261, 10648]\n",
      "[1, 8, 27, 64, 125, 216]\n",
      "[5832, 6859, 8000, 9261, 10648, 12167]\n",
      "[1, 8, 27, 64, 125, 216]\n",
      "[6859, 8000, 9261, 10648, 12167, 13824]\n",
      "[1, 8, 27, 64, 125, 216]\n",
      "[8000, 9261, 10648, 12167, 13824, 15625]\n",
      "[1, 8, 27, 64, 125, 216]\n",
      "[9261, 10648, 12167, 13824, 15625, 17576]\n",
      "[1, 8, 27, 64, 125, 216]\n",
      "[10648, 12167, 13824, 15625, 17576, 19683]\n",
      "[1, 8, 27, 64, 125, 216]\n",
      "[12167, 13824, 15625, 17576, 19683, 21952]\n",
      "[1, 8, 27, 64, 125, 216]\n",
      "[13824, 15625, 17576, 19683, 21952, 24389]\n",
      "[1, 8, 27, 64, 125, 216]\n",
      "[15625, 17576, 19683, 21952, 24389, 27000]\n"
     ]
    }
   ],
   "source": [
    "#PROG-6\n",
    "#timeTaken:\n",
    "def CubeValues():\n",
    "    lst = list()\n",
    "    for i in range(1, 31):\n",
    "        lst.append(i**3)\n",
    "        print(lst[:6])\n",
    "        print(lst[-6:])\n",
    "    \n",
    "CubeValues()\n",
    "        \n"
   ]
  },
  {
   "cell_type": "code",
   "execution_count": null,
   "metadata": {},
   "outputs": [],
   "source": []
  }
 ],
 "metadata": {
  "kernelspec": {
   "display_name": "Python 3",
   "language": "python",
   "name": "python3"
  },
  "language_info": {
   "codemirror_mode": {
    "name": "ipython",
    "version": 3
   },
   "file_extension": ".py",
   "mimetype": "text/x-python",
   "name": "python",
   "nbconvert_exporter": "python",
   "pygments_lexer": "ipython3",
   "version": "3.7.3"
  }
 },
 "nbformat": 4,
 "nbformat_minor": 2
}
