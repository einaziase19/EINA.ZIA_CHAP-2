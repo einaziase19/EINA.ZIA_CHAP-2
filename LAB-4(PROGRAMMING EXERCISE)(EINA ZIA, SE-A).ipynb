{
 "cells": [
  {
   "cell_type": "markdown",
   "metadata": {},
   "source": [
    "# EINA ZIA 19B-024-SE SEC-A"
   ]
  },
  {
   "cell_type": "code",
   "execution_count": 4,
   "metadata": {},
   "outputs": [
    {
     "name": "stdout",
     "output_type": "stream",
     "text": [
      "Enter the value of a:1\n",
      "Enter the value of b:4\n",
      "Enter the value of c:1\n",
      "The values of x are: -1.5505102572168221 and-6.449489742783178\n"
     ]
    }
   ],
   "source": [
    "#PROGRAM 1\n",
    "#timeTaken:12min\n",
    "\n",
    "from math import sqrt\n",
    "#user input \n",
    "a = int(input(\"Enter the value of a:\"))\n",
    "b = int(input(\"Enter the value of b:\"))\n",
    "c = int(input(\"Enter the value of c:\"))\n",
    "D = sqrt((b**2 - (4*a*c) )/ 2*a)\n",
    "x1 = - b + D\n",
    "x2 = - b - D\n",
    "\n",
    "#calculating\n",
    "if 2 * a == 0:\n",
    "    print('The equation can not solve as there is a zero division.')\n",
    "else:\n",
    "    print('The values of x are:' + ' ' + str(x1) + ' ' + 'and' + str(x2))"
   ]
  },
  {
   "cell_type": "code",
   "execution_count": 4,
   "metadata": {},
   "outputs": [
    {
     "name": "stdout",
     "output_type": "stream",
     "text": [
      "Enter the first term: 1\n",
      "Enter the common difference: 2\n",
      "Enter the term: 4\n",
      "The sum of terms is :  7\n"
     ]
    }
   ],
   "source": [
    "#PROBLEM 2\n",
    "#timeTaken:34min\n",
    "\n",
    "import math\n",
    "#user input\n",
    "a1 = int(input(\"Enter the first term: \"))\n",
    "d = int(input(\"Enter the common difference: \"))\n",
    "n = int(input(\"Enter the term: \"))\n",
    "\n",
    "an = a1 + (n-1)*d\n",
    "print(\"The sum of terms is : \", + int(an))\n",
    "\n"
   ]
  },
  {
   "cell_type": "code",
   "execution_count": 8,
   "metadata": {},
   "outputs": [
    {
     "name": "stdout",
     "output_type": "stream",
     "text": [
      "Enter a word:madam\n",
      "Yes, your string is palindrome.\n"
     ]
    }
   ],
   "source": [
    "#PROBLEM 3\n",
    "#timeTaken:6min\n",
    "import math\n",
    "#user input\n",
    "variable = input('Enter a word:')\n",
    "revVar = variable[::-1]\n",
    "if revVar == variable:\n",
    "    print(\"Yes, your string is palindrome.\")\n",
    "else:\n",
    "    print(\"Sorry.\")"
   ]
  },
  {
   "cell_type": "code",
   "execution_count": 3,
   "metadata": {},
   "outputs": [
    {
     "name": "stdout",
     "output_type": "stream",
     "text": [
      "Enter marksheet number:1234\n",
      "BOARD OF INTERMEDIATE EDUCATION KARACHI\n",
      "INTERMEDIATE EXAMINATION (ANNUAL-2019)\n",
      "STATEMENT OF MARKS\n",
      "Enter group:PRE-ENGINEERING\n",
      "Enter roll number:9870\n",
      "Enter enrollment number: 5678\n",
      "Enter name:EINA ZIA\n",
      "Enter father name:ZIA ABBASI\n",
      "Enter college name:GULSHAN COLLEGE\n",
      "Marks obtained in math: 94\n",
      "Marks obtained in chemistry: 75\n",
      "Marks obtained in physics: 75\n",
      "Marks obtained in english: 80\n",
      "Marks obtained in urdu: 71\n",
      "395\n",
      "Passed with percentage: 79.0%\n"
     ]
    }
   ],
   "source": [
    "#PROBLEM-4\n",
    "#timeTaken:30min\n",
    "marksheetNumber = input('Enter marksheet number:')\n",
    "print('BOARD OF INTERMEDIATE EDUCATION KARACHI')\n",
    "print('INTERMEDIATE EXAMINATION (ANNUAL-2019)')\n",
    "\n",
    "print('STATEMENT OF MARKS')\n",
    "group = input('Enter group:')\n",
    "rollNumber = input('Enter roll number:')\n",
    "enrollmentNumber = input('Enter enrollment number: ')\n",
    "name = input('Enter name:')\n",
    "fatherName = input('Enter father name:')\n",
    "college = input('Enter college name:')\n",
    "\n",
    "#subject and their marks\n",
    "math = int(input('Marks obtained in math: '))\n",
    "chemistry = int(input('Marks obtained in chemistry: '))\n",
    "physics = int(input('Marks obtained in physics: '))\n",
    "english = int(input('Marks obtained in english: '))\n",
    "urdu = int(input('Marks obtained in urdu: '))\n",
    "total = int(math + chemistry + physics + english + urdu)\n",
    "print(total)\n",
    "\n",
    "#percentage\n",
    "overall = 500\n",
    "percentage = float((total/overall) * 100)\n",
    "\n",
    "if percentage > 40:\n",
    "    print('Passed with percentage:' + ' ' + str(percentage) + '%')\n",
    "else:\n",
    "    print('failed')\n"
   ]
  },
  {
   "cell_type": "code",
   "execution_count": 11,
   "metadata": {},
   "outputs": [
    {
     "name": "stdout",
     "output_type": "stream",
     "text": [
      "1, 2, 3, 4, 5\n",
      "2, 4, 6, 8, 10\n",
      "3, 6, 9, 12, 15\n",
      "4, 8, 12, 16, 20\n",
      "5, 10, 15, 20, 25\n"
     ]
    }
   ],
   "source": [
    "#PROBLEM 5\n",
    "#timeTaken: 4min\n",
    "A = ['1, 2, 3, 4, 5', '2, 4, 6, 8, 10', '3, 6, 9, 12, 15', '4, 8, 12, 16, 20', '5, 10, 15, 20, 25']\n",
    "for a in A:\n",
    "    print(a)"
   ]
  },
  {
   "cell_type": "code",
   "execution_count": 8,
   "metadata": {},
   "outputs": [
    {
     "ename": "TypeError",
     "evalue": "can't multiply sequence by non-int of type 'list'",
     "output_type": "error",
     "traceback": [
      "\u001b[1;31m---------------------------------------------------------------------------\u001b[0m",
      "\u001b[1;31mTypeError\u001b[0m                                 Traceback (most recent call last)",
      "\u001b[1;32m<ipython-input-8-78c4ad5d8475>\u001b[0m in \u001b[0;36m<module>\u001b[1;34m\u001b[0m\n\u001b[0;32m      6\u001b[0m matrix2 = [[3, 5],\n\u001b[0;32m      7\u001b[0m            [8, 4]]\n\u001b[1;32m----> 8\u001b[1;33m \u001b[0mmulti_matrix\u001b[0m \u001b[1;33m=\u001b[0m \u001b[0mmatrix1\u001b[0m \u001b[1;33m*\u001b[0m \u001b[0mmatrix2\u001b[0m\u001b[1;33m\u001b[0m\u001b[1;33m\u001b[0m\u001b[0m\n\u001b[0m\u001b[0;32m      9\u001b[0m \u001b[1;33m\u001b[0m\u001b[0m\n\u001b[0;32m     10\u001b[0m \u001b[0mprint\u001b[0m\u001b[1;33m(\u001b[0m\u001b[0mmulti_matrix\u001b[0m\u001b[1;33m)\u001b[0m\u001b[1;33m\u001b[0m\u001b[1;33m\u001b[0m\u001b[0m\n",
      "\u001b[1;31mTypeError\u001b[0m: can't multiply sequence by non-int of type 'list'"
     ]
    }
   ],
   "source": [
    "#PROBLEM 6\n",
    "#timeTaken:7min\n",
    "\n",
    "matrix1 = [[2, 3],\n",
    "           [1, 4]]\n",
    "matrix2 = [[3, 5],\n",
    "           [8, 4]]\n",
    "multi_matrix = matrix1 * matrix2\n",
    "\n",
    "print(multi_matrix)"
   ]
  },
  {
   "cell_type": "code",
   "execution_count": null,
   "metadata": {},
   "outputs": [
    {
     "name": "stdout",
     "output_type": "stream",
     "text": [
      "Input number of rows:123\n"
     ]
    }
   ],
   "source": [
    "#PROBLEM 7\n",
    "#timeTaken:6min \n",
    "\n",
    "row_num = int(input(\"Input number of rows:\"))\n",
    "col_num = int(input(\"Input number of columns:\"))\n",
    "multi_list = [[0 for col in range(col_num)] for row in range (row_num)]\n",
    "\n",
    "for row in range(row_num):\n",
    "    for col in range(col_num):\n",
    "        multi_list[row][col] = row + col\n",
    "        \n",
    "sum = multi_list + multi_list\n",
    "print(str(multi_list))\n"
   ]
  },
  {
   "cell_type": "code",
   "execution_count": null,
   "metadata": {},
   "outputs": [],
   "source": [
    "def an(a, d, n):\n",
    "    res = a + (n-1) * d\n",
    "    return res\n",
    "    print(res)\n",
    "an(2, 4, 3)"
   ]
  },
  {
   "cell_type": "code",
   "execution_count": null,
   "metadata": {},
   "outputs": [],
   "source": []
  }
 ],
 "metadata": {
  "kernelspec": {
   "display_name": "Python 3",
   "language": "python",
   "name": "python3"
  },
  "language_info": {
   "codemirror_mode": {
    "name": "ipython",
    "version": 3
   },
   "file_extension": ".py",
   "mimetype": "text/x-python",
   "name": "python",
   "nbconvert_exporter": "python",
   "pygments_lexer": "ipython3",
   "version": "3.7.3"
  }
 },
 "nbformat": 4,
 "nbformat_minor": 2
}
