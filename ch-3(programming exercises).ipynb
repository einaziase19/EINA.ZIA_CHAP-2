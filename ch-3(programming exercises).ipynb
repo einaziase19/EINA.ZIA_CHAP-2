{
 "cells": [
  {
   "cell_type": "markdown",
   "metadata": {},
   "source": [
    "# 3.1\n"
   ]
  },
  {
   "cell_type": "code",
   "execution_count": 1,
   "metadata": {},
   "outputs": [
    {
     "name": "stdout",
     "output_type": "stream",
     "text": [
      "Enter the temperature in degree fahrenheit(in degrees) : 45\n",
      "The temperature in degree celsius is: 7.222222222222222 degrees.\n"
     ]
    }
   ],
   "source": [
    "#timeTaken:6min\n",
    "#convert temperature into degree celsius from degree fahrenheit\n",
    "import math\n",
    "#User input\n",
    "fahrenheit = float(input('Enter the temperature in degree fahrenheit(in degrees) : '))\n",
    "\n",
    "#Calculating\n",
    "celsius = float((5/9) * (fahrenheit - 32))\n",
    "print('The temperature in degree celsius is: ' + str(celsius) + ' degrees.')"
   ]
  },
  {
   "cell_type": "markdown",
   "metadata": {},
   "source": [
    "# 3.2"
   ]
  },
  {
   "cell_type": "code",
   "execution_count": 2,
   "metadata": {},
   "outputs": [
    {
     "name": "stdout",
     "output_type": "stream",
     "text": [
      "Enter age: 70\n",
      "You can get you pension benefits.\n"
     ]
    }
   ],
   "source": [
    "#timeTaken:2min\n",
    "age = eval(input('Enter age: '))\n",
    "\n",
    "if age > 62:\n",
    "    print('You can get you pension benefits.')"
   ]
  },
  {
   "cell_type": "code",
   "execution_count": 3,
   "metadata": {},
   "outputs": [
    {
     "name": "stdout",
     "output_type": "stream",
     "text": [
      "Enter name: Ronaldo\n",
      "One of the top 5 football players, ever!\n"
     ]
    }
   ],
   "source": [
    "#timeTaken:3min\n",
    "list = ['Messi', 'Ronaldo', 'Neymar', 'Ronaldinho', 'Jasper']\n",
    "\n",
    "name = input('Enter name: ')\n",
    "\n",
    "if name in list:\n",
    "    print('One of the top 5 football players, ever!')"
   ]
  },
  {
   "cell_type": "code",
   "execution_count": 6,
   "metadata": {},
   "outputs": [
    {
     "name": "stdout",
     "output_type": "stream",
     "text": [
      "Enter number of hits: 13\n",
      "Enter number of shields: 0\n",
      "You are dead...\n"
     ]
    }
   ],
   "source": [
    "#timeTaken:4min\n",
    "hits = int(input(\"Enter number of hits: \"))\n",
    "shield = int(input(\"Enter number of shields: \"))\n",
    "\n",
    "if hits>10 and shield == 0:\n",
    "    print('You are dead...')"
   ]
  },
  {
   "cell_type": "code",
   "execution_count": 8,
   "metadata": {},
   "outputs": [
    {
     "name": "stdout",
     "output_type": "stream",
     "text": [
      "Enter direction: north\n",
      "I can escape.\n"
     ]
    }
   ],
   "source": [
    "#timeTaken:4min\n",
    "direction = input(\"Enter direction: \")\n",
    "\n",
    "if 'north' or 'south' or 'east' or 'west':\n",
    "    print('I can escape.')"
   ]
  },
  {
   "cell_type": "markdown",
   "metadata": {},
   "source": [
    "# 3.3"
   ]
  },
  {
   "cell_type": "code",
   "execution_count": 2,
   "metadata": {},
   "outputs": [
    {
     "name": "stdout",
     "output_type": "stream",
     "text": [
      "Enter year:23\n",
      "Definitely not a leap year.\n"
     ]
    }
   ],
   "source": [
    "#timeTaken:3min\n",
    "year = int(input(\"Enter year:\"))\n",
    "\n",
    "if year % 4 == 0:\n",
    "    print(\"Could be a leap year.\")\n",
    "else:\n",
    "    print(\"Definitely not a leap year.\")"
   ]
  },
  {
   "cell_type": "code",
   "execution_count": 3,
   "metadata": {},
   "outputs": [
    {
     "name": "stdout",
     "output_type": "stream",
     "text": [
      "Better luck next time..\n"
     ]
    }
   ],
   "source": [
    "#timeTaken:4min\n",
    "ticket = [1, 2, 3, 4]\n",
    "lottery = [4, 3, 2, 1]\n",
    "\n",
    "if ticket == lottery:\n",
    "    print('You won...')\n",
    "else:\n",
    "    print('Better luck next time..')"
   ]
  },
  {
   "cell_type": "markdown",
   "metadata": {},
   "source": [
    "# 3.4"
   ]
  },
  {
   "cell_type": "code",
   "execution_count": 4,
   "metadata": {},
   "outputs": [
    {
     "name": "stdout",
     "output_type": "stream",
     "text": [
      "Enter ID:alex\n",
      "user unknown.\n",
      "Done\n"
     ]
    }
   ],
   "source": [
    "ID = ['EINA', 'IZMA', 'SARA', 'SIMRA']\n",
    "login = input('Enter ID:')\n",
    "\n",
    "if login in ID:\n",
    "    print('You are in.')\n",
    "    print('Done.')\n",
    "else:\n",
    "    print('user unknown.')\n",
    "    print('Done')"
   ]
  },
  {
   "cell_type": "markdown",
   "metadata": {},
   "source": [
    "# 3.5"
   ]
  },
  {
   "cell_type": "code",
   "execution_count": 10,
   "metadata": {},
   "outputs": [
    {
     "name": "stdout",
     "output_type": "stream",
     "text": [
      "Eina\n",
      "Izma\n",
      "Sara\n",
      "sorry\n",
      "sorry\n",
      "sorry\n"
     ]
    }
   ],
   "source": [
    "#timeTaken:12min\n",
    "wordList = ['Eina', 'Izma', 'Sara', 'Simra', 'Zia', 'Yasmeen']\n",
    "for word in wordList:\n",
    "    if len(word) == 4:\n",
    "        print(word)\n",
    "    else:\n",
    "        print(\"sorry\")"
   ]
  },
  {
   "cell_type": "markdown",
   "metadata": {},
   "source": [
    "# 3.6"
   ]
  },
  {
   "cell_type": "code",
   "execution_count": 11,
   "metadata": {},
   "outputs": [
    {
     "name": "stdout",
     "output_type": "stream",
     "text": [
      "The value generated by range is:  0\n",
      "The value generated by range is:  1\n",
      "The value generated by range is:  2\n",
      "The value generated by range is:  3\n",
      "The value generated by range is:  4\n",
      "The value generated by range is:  5\n",
      "The value generated by range is:  6\n",
      "The value generated by range is:  7\n",
      "The value generated by range is:  8\n",
      "The value generated by range is:  9\n"
     ]
    }
   ],
   "source": [
    "#timeTaken:2min\n",
    "for i in range(10):\n",
    "    print('The value generated by range is: ', i)"
   ]
  },
  {
   "cell_type": "code",
   "execution_count": 12,
   "metadata": {},
   "outputs": [
    {
     "name": "stdout",
     "output_type": "stream",
     "text": [
      "0\n",
      "1\n"
     ]
    }
   ],
   "source": [
    "#timeTaken:2min\n",
    "for i in range(2):\n",
    "    print(i)"
   ]
  },
  {
   "cell_type": "markdown",
   "metadata": {},
   "source": [
    "# 3.7"
   ]
  },
  {
   "cell_type": "code",
   "execution_count": 14,
   "metadata": {},
   "outputs": [
    {
     "name": "stdout",
     "output_type": "stream",
     "text": [
      "3\n",
      "4\n",
      "5\n",
      "6\n",
      "7\n",
      "8\n",
      "9\n",
      "10\n",
      "11\n",
      "12\n"
     ]
    }
   ],
   "source": [
    "#timeTaken:1min\n",
    "for i in range(3, 13, 1):\n",
    "    print(i)"
   ]
  },
  {
   "cell_type": "code",
   "execution_count": 15,
   "metadata": {},
   "outputs": [
    {
     "name": "stdout",
     "output_type": "stream",
     "text": [
      "0\n",
      "2\n",
      "4\n",
      "6\n",
      "8\n"
     ]
    }
   ],
   "source": [
    "#timeTaken:1min\n",
    "for n in range(0, 9, 2):\n",
    "    print(n)"
   ]
  },
  {
   "cell_type": "code",
   "execution_count": 16,
   "metadata": {},
   "outputs": [
    {
     "name": "stdout",
     "output_type": "stream",
     "text": [
      "0\n",
      "3\n",
      "6\n",
      "9\n",
      "12\n",
      "15\n",
      "18\n",
      "21\n"
     ]
    }
   ],
   "source": [
    "#timeTaken:1min\n",
    "for a in range(0, 24, 3):\n",
    "    print(a)"
   ]
  },
  {
   "cell_type": "code",
   "execution_count": 17,
   "metadata": {},
   "outputs": [
    {
     "name": "stdout",
     "output_type": "stream",
     "text": [
      "3\n",
      "8\n"
     ]
    }
   ],
   "source": [
    "#timeTaken:1min\n",
    "for t in range(3, 12, 5):\n",
    "    print(t)"
   ]
  },
  {
   "cell_type": "markdown",
   "metadata": {},
   "source": [
    "# 3.8"
   ]
  },
  {
   "cell_type": "code",
   "execution_count": 18,
   "metadata": {},
   "outputs": [
    {
     "data": {
      "text/plain": [
       "6.283185307179586"
      ]
     },
     "execution_count": 18,
     "metadata": {},
     "output_type": "execute_result"
    }
   ],
   "source": [
    "#timeTaken:4min\n",
    "import math\n",
    "def perimeter(radius):\n",
    "    return 2 * math.pi * radius\n",
    "perimeter(1)"
   ]
  },
  {
   "cell_type": "markdown",
   "metadata": {},
   "source": [
    "# 3.9"
   ]
  },
  {
   "cell_type": "code",
   "execution_count": 19,
   "metadata": {},
   "outputs": [
    {
     "data": {
      "text/plain": [
       "6.0"
      ]
     },
     "execution_count": 19,
     "metadata": {},
     "output_type": "execute_result"
    }
   ],
   "source": [
    "#timeTaken:2min\n",
    "def number(a, b):\n",
    "    avg = (a+b)/2\n",
    "    return avg\n",
    "number(5, 7)"
   ]
  },
  {
   "cell_type": "markdown",
   "metadata": {},
   "source": [
    "# 3.10"
   ]
  },
  {
   "cell_type": "code",
   "execution_count": 21,
   "metadata": {},
   "outputs": [
    {
     "data": {
      "text/plain": [
       "True"
      ]
     },
     "execution_count": 21,
     "metadata": {},
     "output_type": "execute_result"
    }
   ],
   "source": [
    "#timeTaken:5min\n",
    "def noVowel(v):\n",
    "    for vow in v:\n",
    "        if vow in 'aeiouAEIOU':\n",
    "            return False\n",
    "        return True\n",
    "noVowel('car')"
   ]
  },
  {
   "cell_type": "code",
   "execution_count": 24,
   "metadata": {},
   "outputs": [
    {
     "data": {
      "text/plain": [
       "True"
      ]
     },
     "execution_count": 24,
     "metadata": {},
     "output_type": "execute_result"
    }
   ],
   "source": [
    "#timeTaken:7min\n",
    "def noVowel(v):\n",
    "    for vow in v:\n",
    "        if vow in 'aeiouAEIOU':\n",
    "            return False\n",
    "        return True\n",
    "noVowel('crypt')"
   ]
  },
  {
   "cell_type": "code",
   "execution_count": 25,
   "metadata": {},
   "outputs": [
    {
     "data": {
      "text/plain": [
       "True"
      ]
     },
     "execution_count": 25,
     "metadata": {},
     "output_type": "execute_result"
    }
   ],
   "source": [
    "#timrTaken:6min\n",
    "def noVowel(v):\n",
    "    'return True if string v contains no vowel, False otherwise'\n",
    "    for vow in v:\n",
    "        if vow in 'aeiouAEIOU':\n",
    "            return False\n",
    "    return True\n",
    "noVowel('crypt')"
   ]
  },
  {
   "cell_type": "markdown",
   "metadata": {},
   "source": [
    "# 3.11"
   ]
  },
  {
   "cell_type": "code",
   "execution_count": 23,
   "metadata": {},
   "outputs": [
    {
     "data": {
      "text/plain": [
       "True"
      ]
     },
     "execution_count": 23,
     "metadata": {},
     "output_type": "execute_result"
    }
   ],
   "source": [
    "#timeTaken:8min\n",
    "def allEven(numList):\n",
    "    'return True is all integers in numList are even, False otherwise'\n",
    "    for num in numList:\n",
    "        if num%2 !=0:\n",
    "            return False\n",
    "        return True\n",
    "allEven([8, 0, -2, 4, -6, 10])"
   ]
  },
  {
   "cell_type": "markdown",
   "metadata": {},
   "source": [
    "# 3.12"
   ]
  },
  {
   "cell_type": "code",
   "execution_count": 26,
   "metadata": {},
   "outputs": [
    {
     "name": "stdout",
     "output_type": "stream",
     "text": [
      "-1\n",
      "-3\n",
      "-9\n"
     ]
    }
   ],
   "source": [
    "def negatives(neg):\n",
    "    for n in neg:\n",
    "        if n < 0:\n",
    "         print(n)\n",
    "negatives([4, 0, -1, -3, 6, -9])"
   ]
  },
  {
   "cell_type": "markdown",
   "metadata": {},
   "source": [
    "# 3.13"
   ]
  },
  {
   "cell_type": "code",
   "execution_count": 27,
   "metadata": {},
   "outputs": [
    {
     "ename": "NameError",
     "evalue": "name 'average' is not defined",
     "output_type": "error",
     "traceback": [
      "\u001b[1;31m---------------------------------------------------------------------------\u001b[0m",
      "\u001b[1;31mNameError\u001b[0m                                 Traceback (most recent call last)",
      "\u001b[1;32m<ipython-input-27-37ccfe9c1b74>\u001b[0m in \u001b[0;36m<module>\u001b[1;34m\u001b[0m\n\u001b[1;32m----> 1\u001b[1;33m \u001b[0mhelp\u001b[0m\u001b[1;33m(\u001b[0m\u001b[0maverage\u001b[0m\u001b[1;33m)\u001b[0m\u001b[1;33m\u001b[0m\u001b[1;33m\u001b[0m\u001b[0m\n\u001b[0m",
      "\u001b[1;31mNameError\u001b[0m: name 'average' is not defined"
     ]
    }
   ],
   "source": []
  },
  {
   "cell_type": "markdown",
   "metadata": {},
   "source": [
    "# 3.14"
   ]
  },
  {
   "cell_type": "code",
   "execution_count": null,
   "metadata": {},
   "outputs": [],
   "source": []
  },
  {
   "cell_type": "markdown",
   "metadata": {},
   "source": [
    "# 3.15"
   ]
  },
  {
   "cell_type": "code",
   "execution_count": null,
   "metadata": {},
   "outputs": [],
   "source": [
    "#timeTaken:\n"
   ]
  },
  {
   "cell_type": "markdown",
   "metadata": {},
   "source": [
    "# 3.16"
   ]
  },
  {
   "cell_type": "code",
   "execution_count": null,
   "metadata": {},
   "outputs": [],
   "source": [
    "#timeTaken:\n"
   ]
  },
  {
   "cell_type": "markdown",
   "metadata": {},
   "source": [
    "# 3.17"
   ]
  },
  {
   "cell_type": "code",
   "execution_count": null,
   "metadata": {},
   "outputs": [],
   "source": [
    "#timeTaken:\n"
   ]
  },
  {
   "cell_type": "markdown",
   "metadata": {},
   "source": [
    "# 3.18"
   ]
  },
  {
   "cell_type": "code",
   "execution_count": 2,
   "metadata": {},
   "outputs": [
    {
     "name": "stdout",
     "output_type": "stream",
     "text": [
      "a is less than b.\n",
      "OK\n",
      "The sum of the squares a and b is equal to c squared.\n",
      "OK\n"
     ]
    }
   ],
   "source": [
    "#timeTaken:4min\n",
    "a, b, c = 3, 4, 5\n",
    "if a<b:\n",
    "    print('a is less than b.')\n",
    "    print('OK')\n",
    "if c<b:\n",
    "    print('c is less than b.')\n",
    "    print('OK')\n",
    "if (a+b)==c:\n",
    "    print('The sum of a and b is equal to c.')\n",
    "    print('OK')\n",
    "if (a**2 + b**2)==c**2:\n",
    "    print('The sum of the squares a and b is equal to c squared.')\n",
    "    print('OK')\n",
    "    "
   ]
  },
  {
   "cell_type": "markdown",
   "metadata": {},
   "source": [
    "# 3.19"
   ]
  },
  {
   "cell_type": "code",
   "execution_count": 3,
   "metadata": {},
   "outputs": [
    {
     "name": "stdout",
     "output_type": "stream",
     "text": [
      "a is less than b.\n",
      "OK\n",
      "c is less than b.\n",
      "NOT OK.\n",
      "The sum of a and b is equal to c.\n",
      "NOT OK\n",
      "The sum of the squares a and b is equal to c squared.\n",
      "OK\n"
     ]
    }
   ],
   "source": [
    "#timeTaken:8min\n",
    "a, b, c = 3, 4, 5\n",
    "if a<b:\n",
    "    print('a is less than b.')\n",
    "    print('OK')\n",
    "else:\n",
    "    print('a is less than b.')\n",
    "    print('NOT OK.')\n",
    "if c<b:\n",
    "    print('c is less than b.')\n",
    "    print('OK')\n",
    "else:\n",
    "    print('c is less than b.')\n",
    "    print('NOT OK.')\n",
    "if (a+b)==c:\n",
    "    print('The sum of a and b is equal to c.')\n",
    "    print('OK')\n",
    "else:\n",
    "    print('The sum of a and b is equal to c.')\n",
    "    print('NOT OK')\n",
    "if (a**2 + b**2)==c**2:\n",
    "    print('The sum of the squares a and b is equal to c squared.')\n",
    "    print('OK')\n",
    "else:\n",
    "    print('The sum of the squares a and b is equal to c squared.')\n",
    "    print('NOT OK.')\n",
    "    "
   ]
  },
  {
   "cell_type": "markdown",
   "metadata": {},
   "source": [
    "# 3.20"
   ]
  },
  {
   "cell_type": "code",
   "execution_count": null,
   "metadata": {},
   "outputs": [],
   "source": [
    "#timeTaken:\n",
    "lst = ['January', 'February', 'March']\n",
    "for i in lst:\n",
    "\n"
   ]
  },
  {
   "cell_type": "markdown",
   "metadata": {},
   "source": [
    "# 3.21"
   ]
  },
  {
   "cell_type": "code",
   "execution_count": 4,
   "metadata": {},
   "outputs": [
    {
     "name": "stdout",
     "output_type": "stream",
     "text": [
      "2\n",
      "4\n",
      "6\n",
      "8\n"
     ]
    }
   ],
   "source": [
    "#timeTaken:2min\n",
    "evenNumber = [2, 3, 4, 5, 6, 7, 8, 9]\n",
    "for even in evenNumber:\n",
    "    if even % 2==0:\n",
    "        print(even)"
   ]
  },
  {
   "cell_type": "markdown",
   "metadata": {},
   "source": [
    "# 3.22"
   ]
  },
  {
   "cell_type": "code",
   "execution_count": 5,
   "metadata": {},
   "outputs": [
    {
     "name": "stdout",
     "output_type": "stream",
     "text": [
      "4\n",
      "8\n"
     ]
    }
   ],
   "source": [
    "#timeTaken:1min\n",
    "evenNumber = [2, 3, 4, 5, 6, 7, 8, 9]\n",
    "for even in evenNumber:\n",
    "    if even**2 % 8 ==0:\n",
    "        print(even)"
   ]
  },
  {
   "cell_type": "markdown",
   "metadata": {},
   "source": [
    "# 3.23"
   ]
  },
  {
   "cell_type": "code",
   "execution_count": 6,
   "metadata": {},
   "outputs": [
    {
     "name": "stdout",
     "output_type": "stream",
     "text": [
      "0\n",
      "1\n"
     ]
    }
   ],
   "source": [
    "#timeTaken:30sec\n",
    "for i in range(0, 2):\n",
    "    print(i)"
   ]
  },
  {
   "cell_type": "code",
   "execution_count": 7,
   "metadata": {},
   "outputs": [
    {
     "name": "stdout",
     "output_type": "stream",
     "text": [
      "0\n"
     ]
    }
   ],
   "source": [
    "#timeTaken:12sec\n",
    "for i in range(0,1):\n",
    "    print(i)"
   ]
  },
  {
   "cell_type": "code",
   "execution_count": 8,
   "metadata": {},
   "outputs": [
    {
     "name": "stdout",
     "output_type": "stream",
     "text": [
      "3\n",
      "4\n",
      "5\n",
      "6\n"
     ]
    }
   ],
   "source": [
    "#timeTaken:15sec\n",
    "for i in range(3, 7):\n",
    "    print(i)"
   ]
  },
  {
   "cell_type": "code",
   "execution_count": 11,
   "metadata": {},
   "outputs": [
    {
     "name": "stdout",
     "output_type": "stream",
     "text": [
      "1\n"
     ]
    }
   ],
   "source": [
    "#timeTaken:27sec\n",
    "for i in range(1, 2):\n",
    "    print(i)"
   ]
  },
  {
   "cell_type": "code",
   "execution_count": 12,
   "metadata": {},
   "outputs": [
    {
     "name": "stdout",
     "output_type": "stream",
     "text": [
      "0\n",
      "1\n",
      "2\n",
      "3\n"
     ]
    }
   ],
   "source": [
    "#timeTaken:20sec\n",
    "for i in range(0, 4):\n",
    "    print(i)"
   ]
  },
  {
   "cell_type": "code",
   "execution_count": 13,
   "metadata": {},
   "outputs": [
    {
     "name": "stdout",
     "output_type": "stream",
     "text": [
      "5\n",
      "9\n",
      "13\n",
      "17\n",
      "21\n"
     ]
    }
   ],
   "source": [
    "#timeTaken:39sec\n",
    "for i in range(5, 22, 4):\n",
    "    print(i)"
   ]
  },
  {
   "cell_type": "markdown",
   "metadata": {},
   "source": [
    "# 3.24"
   ]
  },
  {
   "cell_type": "code",
   "execution_count": 17,
   "metadata": {},
   "outputs": [
    {
     "name": "stdout",
     "output_type": "stream",
     "text": [
      "abc\n",
      "def\n",
      "ghi\n"
     ]
    }
   ],
   "source": [
    "#timeTaken:8min\n",
    "words = ['abc', 'secret', 'def', 'secret', 'ghi']\n",
    "for i in words:\n",
    "    if i != 'secret':\n",
    "        print(i)"
   ]
  },
  {
   "cell_type": "markdown",
   "metadata": {},
   "source": [
    "# 3.25"
   ]
  },
  {
   "cell_type": "code",
   "execution_count": 20,
   "metadata": {},
   "outputs": [],
   "source": [
    "#timeTaken:3min\n",
    "words = ['Eina', 'Izma', 'Aimen', 'Zufi', 'Sadia']\n",
    "for i in words:\n",
    "    if i in 'ABCDEFGHIJKLM':\n",
    "        print(i)"
   ]
  },
  {
   "cell_type": "markdown",
   "metadata": {},
   "source": [
    "# 3.26"
   ]
  },
  {
   "cell_type": "code",
   "execution_count": 1,
   "metadata": {},
   "outputs": [
    {
     "ename": "SyntaxError",
     "evalue": "invalid syntax (<ipython-input-1-db5d40c155f9>, line 4)",
     "output_type": "error",
     "traceback": [
      "\u001b[1;36m  File \u001b[1;32m\"<ipython-input-1-db5d40c155f9>\"\u001b[1;36m, line \u001b[1;32m4\u001b[0m\n\u001b[1;33m    print('The last element of list is:' list[3])\u001b[0m\n\u001b[1;37m                                            ^\u001b[0m\n\u001b[1;31mSyntaxError\u001b[0m\u001b[1;31m:\u001b[0m invalid syntax\n"
     ]
    }
   ],
   "source": [
    "#timeTaken:\n",
    "list = [3, 5, 7, 9]\n",
    "print('The first element of list is:', list[0])\n",
    "print('The last element of list is:' list[3])\n"
   ]
  },
  {
   "cell_type": "markdown",
   "metadata": {},
   "source": [
    "# 3.27"
   ]
  },
  {
   "cell_type": "code",
   "execution_count": null,
   "metadata": {},
   "outputs": [],
   "source": [
    "#timeTaken:\n",
    "integer = int(input(\"Enter a positive integer: \"))\n",
    "for p in integer:\n",
    "    if p \n"
   ]
  },
  {
   "cell_type": "markdown",
   "metadata": {},
   "source": [
    "# 3.28"
   ]
  },
  {
   "cell_type": "code",
   "execution_count": 1,
   "metadata": {},
   "outputs": [
    {
     "name": "stdout",
     "output_type": "stream",
     "text": [
      "Enter number: 5\n",
      "0\n",
      "1\n",
      "4\n",
      "9\n",
      "16\n"
     ]
    }
   ],
   "source": [
    "#timeTakne:2min\n",
    "num = int(input(\"Enter number: \"))\n",
    "for i in range(0, num):\n",
    "    e = i**2\n",
    "    print(e)"
   ]
  },
  {
   "cell_type": "markdown",
   "metadata": {},
   "source": [
    "# 3.29"
   ]
  },
  {
   "cell_type": "code",
   "execution_count": 3,
   "metadata": {},
   "outputs": [
    {
     "name": "stdout",
     "output_type": "stream",
     "text": [
      "Enter number:64\n",
      "0.015625\n",
      "0.03125\n",
      "0.046875\n",
      "0.0625\n",
      "0.078125\n",
      "0.09375\n",
      "0.109375\n",
      "0.125\n",
      "0.140625\n",
      "0.15625\n",
      "0.171875\n",
      "0.1875\n",
      "0.203125\n",
      "0.21875\n",
      "0.234375\n",
      "0.25\n",
      "0.265625\n",
      "0.28125\n",
      "0.296875\n",
      "0.3125\n",
      "0.328125\n",
      "0.34375\n",
      "0.359375\n",
      "0.375\n",
      "0.390625\n",
      "0.40625\n",
      "0.421875\n",
      "0.4375\n",
      "0.453125\n",
      "0.46875\n",
      "0.484375\n",
      "0.5\n",
      "0.515625\n",
      "0.53125\n",
      "0.546875\n",
      "0.5625\n",
      "0.578125\n",
      "0.59375\n",
      "0.609375\n",
      "0.625\n",
      "0.640625\n",
      "0.65625\n",
      "0.671875\n",
      "0.6875\n",
      "0.703125\n",
      "0.71875\n",
      "0.734375\n",
      "0.75\n",
      "0.765625\n",
      "0.78125\n",
      "0.796875\n",
      "0.8125\n",
      "0.828125\n",
      "0.84375\n",
      "0.859375\n",
      "0.875\n",
      "0.890625\n",
      "0.90625\n",
      "0.921875\n",
      "0.9375\n",
      "0.953125\n",
      "0.96875\n",
      "0.984375\n"
     ]
    }
   ],
   "source": [
    "#timeTaken:3min\n",
    "number = int(input(\"Enter number:\"))\n",
    "for i in range(1, number):\n",
    "    w = i/number\n",
    "    print(w)"
   ]
  },
  {
   "cell_type": "markdown",
   "metadata": {},
   "source": [
    "# 3.30"
   ]
  },
  {
   "cell_type": "code",
   "execution_count": 2,
   "metadata": {},
   "outputs": [
    {
     "name": "stdout",
     "output_type": "stream",
     "text": [
      "Enter first number:4.5\n",
      "Enter second number:3\n",
      "Enter third number:3\n",
      "Enter fourth number:3.5\n",
      "Equal\n"
     ]
    }
   ],
   "source": [
    "#timeTaken:6min\n",
    "first = float(input(\"Enter first number:\"))\n",
    "second = int(input(\"Enter second number:\"))\n",
    "third = int(input(\"Enter third number:\"))\n",
    "fourth = float(input(\"Enter fourth number:\"))\n",
    "avg = (first+second+third)/3\n",
    "if fourth == avg:\n",
    "    print('Equal')"
   ]
  },
  {
   "cell_type": "markdown",
   "metadata": {},
   "source": [
    "# 3.31"
   ]
  },
  {
   "cell_type": "code",
   "execution_count": 4,
   "metadata": {},
   "outputs": [
    {
     "name": "stdout",
     "output_type": "stream",
     "text": [
      "Enter x:2\n",
      "Enter y:3\n",
      "It is in.\n"
     ]
    }
   ],
   "source": [
    "#timeTaken:4min\n",
    "import math\n",
    "x = int(input(\"Enter x:\"))\n",
    "y = int(input(\"Enter y:\"))\n",
    "dis = math.sqrt((x-0)**2+(y-0)**2)\n",
    "radius = 8\n",
    "if dis <= radius:\n",
    "    print('It is in.')"
   ]
  },
  {
   "cell_type": "markdown",
   "metadata": {},
   "source": [
    "# 3.32"
   ]
  },
  {
   "cell_type": "code",
   "execution_count": 3,
   "metadata": {},
   "outputs": [
    {
     "name": "stdout",
     "output_type": "stream",
     "text": [
      "Enter four digit value:1234\n",
      "1\n",
      "2\n",
      "3\n",
      "4\n"
     ]
    }
   ],
   "source": [
    "#timeTaken:3min\n",
    "value = int(input(\"Enter four digit value:\"))\n",
    "x = value%10\n",
    "y = x-3\n",
    "for i in range(y, x+1):\n",
    "    print(i)"
   ]
  },
  {
   "cell_type": "markdown",
   "metadata": {},
   "source": [
    "# 3.33"
   ]
  },
  {
   "cell_type": "code",
   "execution_count": 6,
   "metadata": {},
   "outputs": [
    {
     "data": {
      "text/plain": [
       "'e'"
      ]
     },
     "execution_count": 6,
     "metadata": {},
     "output_type": "execute_result"
    }
   ],
   "source": [
    "#timeTaken:\n",
    "def reverse_string(string):\n",
    "    r_string = ''\n",
    "    for i in string:\n",
    "        r_string = i + r_string\n",
    "        return r_string\n",
    "\n",
    "reverse_string('ein')\n",
    "    "
   ]
  },
  {
   "cell_type": "markdown",
   "metadata": {},
   "source": [
    "# 3.34"
   ]
  },
  {
   "cell_type": "code",
   "execution_count": 5,
   "metadata": {},
   "outputs": [
    {
     "data": {
      "text/plain": [
       "251.0"
      ]
     },
     "execution_count": 5,
     "metadata": {},
     "output_type": "execute_result"
    }
   ],
   "source": [
    "#timeTaken:5min\n",
    "def pay(hp, hr):\n",
    "    if hr>40:\n",
    "        res = hp+(hp*(hr-40)*0.015)\n",
    "        return res\n",
    "pay(200, 57) #in rupees"
   ]
  },
  {
   "cell_type": "markdown",
   "metadata": {},
   "source": [
    "# 3.35"
   ]
  },
  {
   "cell_type": "code",
   "execution_count": 15,
   "metadata": {},
   "outputs": [
    {
     "data": {
      "text/plain": [
       "0.03125"
      ]
     },
     "execution_count": 15,
     "metadata": {},
     "output_type": "execute_result"
    }
   ],
   "source": [
    "#timeTaken:2min\n",
    "def prob(n):\n",
    "    res = 2**-n\n",
    "    return res\n",
    "prob(5)"
   ]
  },
  {
   "cell_type": "markdown",
   "metadata": {},
   "source": [
    "# 3.36"
   ]
  },
  {
   "cell_type": "code",
   "execution_count": null,
   "metadata": {},
   "outputs": [],
   "source": [
    "#timeTaken:\n",
    " "
   ]
  },
  {
   "cell_type": "markdown",
   "metadata": {},
   "source": [
    "# 3.37"
   ]
  },
  {
   "cell_type": "code",
   "execution_count": 23,
   "metadata": {},
   "outputs": [
    {
     "data": {
      "text/plain": [
       "('The slope and distance respectively are:', 1.0, 1.4142135623730951)"
      ]
     },
     "execution_count": 23,
     "metadata": {},
     "output_type": "execute_result"
    }
   ],
   "source": [
    "#timeTaken:3min\n",
    "import math\n",
    "def points(x1, x2, y1, y2):\n",
    "    slope= (y2-y1)/(x2-x1)\n",
    "    distance = math.sqrt((x2-x1)**2+(y2-y1)**2)\n",
    "    return 'The slope and distance respectively are:', slope, distance\n",
    "points(1, 2, 3, 4)"
   ]
  },
  {
   "cell_type": "markdown",
   "metadata": {},
   "source": [
    "# 3.38"
   ]
  },
  {
   "cell_type": "code",
   "execution_count": 24,
   "metadata": {},
   "outputs": [
    {
     "data": {
      "text/plain": [
       "'Su'"
      ]
     },
     "execution_count": 24,
     "metadata": {},
     "output_type": "execute_result"
    }
   ],
   "source": [
    "#timeTaken:2min\n",
    "def abbreviation(day):\n",
    "    res = day[0]+day[1]\n",
    "    return res\n",
    "abbreviation('Sunday')"
   ]
  },
  {
   "cell_type": "markdown",
   "metadata": {},
   "source": [
    "# 3.39"
   ]
  },
  {
   "cell_type": "code",
   "execution_count": null,
   "metadata": {},
   "outputs": [],
   "source": [
    "#timeTaken:\n",
    "def collision(x1, y1, r1, x2, y2, r2):\n",
    "    "
   ]
  },
  {
   "cell_type": "markdown",
   "metadata": {},
   "source": [
    "# 3.40"
   ]
  },
  {
   "cell_type": "code",
   "execution_count": 28,
   "metadata": {},
   "outputs": [
    {
     "data": {
      "text/plain": [
       "'Eleanor'"
      ]
     },
     "execution_count": 28,
     "metadata": {},
     "output_type": "execute_result"
    }
   ],
   "source": [
    "#timeTaken:2min\n",
    "def partition(list1):\n",
    "    for i in list1:\n",
    "        if i[0] in 'ABCDEFGHIJKLM':\n",
    "            return i\n",
    "partition(['Eleanor', 'Evelyn', 'Sammy', 'Owen', 'Gavin'])"
   ]
  },
  {
   "cell_type": "markdown",
   "metadata": {},
   "source": [
    "# 3.41"
   ]
  },
  {
   "cell_type": "code",
   "execution_count": 31,
   "metadata": {},
   "outputs": [
    {
     "data": {
      "text/plain": [
       "'Zia,E'"
      ]
     },
     "execution_count": 31,
     "metadata": {},
     "output_type": "execute_result"
    }
   ],
   "source": [
    "#timeTaken:4min\n",
    "def lastF(firstName, lastName):\n",
    "    fullName= lastName + ','+ firstName[0]\n",
    "    return fullName\n",
    "lastF('Eina', 'Zia')\n"
   ]
  },
  {
   "cell_type": "markdown",
   "metadata": {},
   "source": [
    "# 3.42"
   ]
  },
  {
   "cell_type": "code",
   "execution_count": 32,
   "metadata": {},
   "outputs": [
    {
     "data": {
      "text/plain": [
       "90.0"
      ]
     },
     "execution_count": 32,
     "metadata": {},
     "output_type": "execute_result"
    }
   ],
   "source": [
    "#timeTaken:7min\n",
    "def avg(sam, mary, mark, alex):\n",
    "    avg1 = sum(sam)/4\n",
    "    return avg1\n",
    "    avg2 = sum(mary)/2\n",
    "    return avg2\n",
    "    avg3 = sum(mark)/3\n",
    "    return avg3\n",
    "    avg4 = sum(alex)/3\n",
    "    return avg4\n",
    "avg([95, 92, 86, 87], [66, 54], [89, 72, 100], [33, 0, 0])"
   ]
  },
  {
   "cell_type": "markdown",
   "metadata": {},
   "source": [
    "# 3.43"
   ]
  },
  {
   "cell_type": "code",
   "execution_count": 33,
   "metadata": {},
   "outputs": [
    {
     "data": {
      "text/plain": [
       "True"
      ]
     },
     "execution_count": 33,
     "metadata": {},
     "output_type": "execute_result"
    }
   ],
   "source": [
    "#timeTaken:3min\n",
    "import math\n",
    "def hits(x1, y1, r, x2, y2):\n",
    "    p = math.sqrt((x2-x1)**2+(y2-y1)**2)\n",
    "    if p<=r:\n",
    "        return True\n",
    "    else:\n",
    "        False\n",
    "hits(2, 3, 12, 1, 3)"
   ]
  },
  {
   "cell_type": "markdown",
   "metadata": {},
   "source": [
    "# 3.44"
   ]
  },
  {
   "cell_type": "code",
   "execution_count": null,
   "metadata": {},
   "outputs": [],
   "source": [
    "#timeTaken:\n",
    "def distance(t):\n",
    "    "
   ]
  }
 ],
 "metadata": {
  "kernelspec": {
   "display_name": "Python 3",
   "language": "python",
   "name": "python3"
  },
  "language_info": {
   "codemirror_mode": {
    "name": "ipython",
    "version": 3
   },
   "file_extension": ".py",
   "mimetype": "text/x-python",
   "name": "python",
   "nbconvert_exporter": "python",
   "pygments_lexer": "ipython3",
   "version": "3.7.3"
  }
 },
 "nbformat": 4,
 "nbformat_minor": 2
}
