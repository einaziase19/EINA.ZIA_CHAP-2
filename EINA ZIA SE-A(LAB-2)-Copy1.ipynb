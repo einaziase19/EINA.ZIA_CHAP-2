{
 "cells": [
  {
   "cell_type": "code",
   "execution_count": 1,
   "metadata": {},
   "outputs": [
    {
     "name": "stdout",
     "output_type": "stream",
     "text": [
      "The number of days between two dates are 70 days, 0:00:00\n"
     ]
    }
   ],
   "source": [
    "#Calculating number of days between two dates\n",
    "from datetime import date\n",
    "date1 = date(2019, 10, 15)\n",
    "date2 = date(2019, 12, 24)\n",
    "difference = str(date2 - date1)\n",
    "print(\"The number of days between two dates are \" + difference)"
   ]
  },
  {
   "cell_type": "code",
   "execution_count": 2,
   "metadata": {},
   "outputs": [
    {
     "name": "stdout",
     "output_type": "stream",
     "text": [
      "Enter the height of a ladder: 32\n",
      "Enter the angle of a ladder inclined towards the wall: 30\n",
      "The distance from the wall to the ladder corner on the ground is foumd to be: 15.999999999999998feet\n"
     ]
    }
   ],
   "source": [
    "#Calculating height using formula height = length * sin()\n",
    "from math import pi, sin\n",
    "ladder_height = float(input(\"Enter the height of a ladder: \"))\n",
    "ang = float(input(\"Enter the angle of a ladder inclined towards the wall: \"))\n",
    "rad = ang*(pi/180)\n",
    "base = ladder_height * sin(rad)\n",
    "print(\"The distance from the wall to the ladder corner on the ground is foumd to be: \" + str(base) + \"feet\")"
   ]
  },
  {
   "cell_type": "code",
   "execution_count": 3,
   "metadata": {},
   "outputs": [
    {
     "data": {
      "text/plain": [
       "2"
      ]
     },
     "execution_count": 3,
     "metadata": {},
     "output_type": "execute_result"
    }
   ],
   "source": [
    ">>> lst = [32, 43, 5, 34, 2]\n",
    ">>> lst.index(5)"
   ]
  },
  {
   "cell_type": "code",
   "execution_count": 4,
   "metadata": {},
   "outputs": [
    {
     "name": "stdout",
     "output_type": "stream",
     "text": [
      "7\n"
     ]
    }
   ],
   "source": [
    ">>> lst = [12, 32, 34, 465, 35, 65, 8]\n",
    "middle_element = len(lst)\n",
    "print(middle_element)"
   ]
  },
  {
   "cell_type": "code",
   "execution_count": 5,
   "metadata": {},
   "outputs": [
    {
     "data": {
      "text/plain": [
       "[345, 62, 56, 54, 4]"
      ]
     },
     "execution_count": 5,
     "metadata": {},
     "output_type": "execute_result"
    }
   ],
   "source": [
    ">>> lst = [54, 4, 345, 62, 56]\n",
    ">>> lst.sort()\n",
    ">>> lst\n",
    "[4, 54, 56, 62, 345]\n",
    ">>> lst.reverse()\n",
    ">>> lst"
   ]
  },
  {
   "cell_type": "code",
   "execution_count": 6,
   "metadata": {},
   "outputs": [
    {
     "data": {
      "text/plain": [
       "[5, 76, 45, 65, 4, 35, 23]"
      ]
     },
     "execution_count": 6,
     "metadata": {},
     "output_type": "execute_result"
    }
   ],
   "source": [
    ">>> lst = [23, 5, 76, 45, 65, 4, 35]\n",
    ">>> lst.remove(23)\n",
    ">>> lst\n",
    "[5, 76, 45, 65, 4, 35]\n",
    ">>> lst.append(23)\n",
    ">>> lst"
   ]
  },
  {
   "cell_type": "code",
   "execution_count": 7,
   "metadata": {},
   "outputs": [
    {
     "data": {
      "text/plain": [
       "['Jan', 'Feb', 'Mar', 'Apr', 'May']"
      ]
     },
     "execution_count": 7,
     "metadata": {},
     "output_type": "execute_result"
    }
   ],
   "source": [
    ">>> monthL = ['Jan', 'Feb', 'Mar', 'May']\n",
    ">>> monthL.insert(3, 'Apr')\n",
    ">>> monthL"
   ]
  },
  {
   "cell_type": "code",
   "execution_count": 8,
   "metadata": {},
   "outputs": [
    {
     "data": {
      "text/plain": [
       "['Jan', 'Feb', 'Mar', 'Apr', 'May', 'Jun']"
      ]
     },
     "execution_count": 8,
     "metadata": {},
     "output_type": "execute_result"
    }
   ],
   "source": [
    ">>> monthL = ['Jan', 'Feb', 'Mar', 'May']\n",
    ">>> monthL.insert(3, 'Apr')\n",
    ">>> monthL\n",
    ">>> monthL.append('Jun')\n",
    ">>> monthL"
   ]
  },
  {
   "cell_type": "code",
   "execution_count": 9,
   "metadata": {},
   "outputs": [
    {
     "data": {
      "text/plain": [
       "['Jan', 'Feb', 'Apr', 'May', 'Jun']"
      ]
     },
     "execution_count": 9,
     "metadata": {},
     "output_type": "execute_result"
    }
   ],
   "source": [
    ">>> monthL = ['Jan', 'Feb', 'Mar', 'May']\n",
    ">>> monthL.insert(3, 'Apr')\n",
    ">>> monthL\n",
    ">>> monthL.append('Jun')\n",
    ">>> monthL\n",
    ">>> monthL.pop(2)\n",
    ">>> monthL"
   ]
  },
  {
   "cell_type": "code",
   "execution_count": 10,
   "metadata": {},
   "outputs": [
    {
     "data": {
      "text/plain": [
       "['Jan', 'Apr', 'May', 'Jun']"
      ]
     },
     "execution_count": 10,
     "metadata": {},
     "output_type": "execute_result"
    }
   ],
   "source": [
    ">>> monthL.remove('Feb')\n",
    ">>> monthL"
   ]
  },
  {
   "cell_type": "code",
   "execution_count": 11,
   "metadata": {},
   "outputs": [
    {
     "data": {
      "text/plain": [
       "['Jun', 'May', 'Apr', 'Jan']"
      ]
     },
     "execution_count": 11,
     "metadata": {},
     "output_type": "execute_result"
    }
   ],
   "source": [
    ">>> monthL.reverse()\n",
    ">>> monthL"
   ]
  },
  {
   "cell_type": "code",
   "execution_count": 12,
   "metadata": {},
   "outputs": [
    {
     "data": {
      "text/plain": [
       "['Apr', 'Jan', 'Jun', 'May']"
      ]
     },
     "execution_count": 12,
     "metadata": {},
     "output_type": "execute_result"
    }
   ],
   "source": [
    ">>> monthL.sort()\n",
    ">>> monthL"
   ]
  },
  {
   "cell_type": "code",
   "execution_count": 13,
   "metadata": {},
   "outputs": [
    {
     "ename": "TypeError",
     "evalue": "tuple indices must be integers or slices, not tuple",
     "output_type": "error",
     "traceback": [
      "\u001b[1;31m---------------------------------------------------------------------------\u001b[0m",
      "\u001b[1;31mTypeError\u001b[0m                                 Traceback (most recent call last)",
      "\u001b[1;32m<ipython-input-13-05342d5f1b07>\u001b[0m in \u001b[0;36m<module>\u001b[1;34m\u001b[0m\n\u001b[0;32m      1\u001b[0m \u001b[1;31m# insert 'Apr' in between 'Mar' and 'May'\u001b[0m\u001b[1;33m\u001b[0m\u001b[1;33m\u001b[0m\u001b[1;33m\u001b[0m\u001b[0m\n\u001b[0;32m      2\u001b[0m \u001b[0mmonthT\u001b[0m \u001b[1;33m=\u001b[0m \u001b[1;33m(\u001b[0m\u001b[1;34m'Jan'\u001b[0m\u001b[1;33m,\u001b[0m \u001b[1;34m'Feb'\u001b[0m\u001b[1;33m,\u001b[0m \u001b[1;34m'Mar'\u001b[0m\u001b[1;33m,\u001b[0m \u001b[1;34m'May'\u001b[0m\u001b[1;33m)\u001b[0m\u001b[1;33m\u001b[0m\u001b[1;33m\u001b[0m\u001b[0m\n\u001b[1;32m----> 3\u001b[1;33m \u001b[0mitem\u001b[0m \u001b[1;33m=\u001b[0m \u001b[0mmonthT\u001b[0m\u001b[1;33m[\u001b[0m\u001b[1;36m3\u001b[0m\u001b[1;33m,\u001b[0m \u001b[1;34m'Apr'\u001b[0m\u001b[1;33m]\u001b[0m\u001b[1;33m\u001b[0m\u001b[1;33m\u001b[0m\u001b[0m\n\u001b[0m\u001b[0;32m      4\u001b[0m \u001b[0mprint\u001b[0m\u001b[1;33m(\u001b[0m\u001b[0mmonthT\u001b[0m\u001b[1;33m)\u001b[0m\u001b[1;33m\u001b[0m\u001b[1;33m\u001b[0m\u001b[0m\n",
      "\u001b[1;31mTypeError\u001b[0m: tuple indices must be integers or slices, not tuple"
     ]
    }
   ],
   "source": [
    "# insert 'Apr' in between 'Mar' and 'May'\n",
    "monthT = ('Jan', 'Feb', 'Mar', 'May')\n",
    "item = monthT[3, 'Apr']\n",
    "print(monthT)"
   ]
  },
  {
   "cell_type": "code",
   "execution_count": 4,
   "metadata": {},
   "outputs": [
    {
     "name": "stdout",
     "output_type": "stream",
     "text": [
      "17\n",
      "True\n"
     ]
    }
   ],
   "source": [
    "lst1 = ['a', 'n', 'a', 'c', 'h', 'r', 'o', 'n', 'i', 's', 't', 'i', 'c', 'a', 'l', 'l', 'y']\n",
    "print(len(lst1))\n",
    "lst2 = ['c', 'o', 'u', 'n', 't', 'e', 'r', 'i', 'n', 't', 'u', 'i', 't', 'i', 'v', 'e']\n",
    "print(len(lst2)< len(lst1))"
   ]
  },
  {
   "cell_type": "code",
   "execution_count": 8,
   "metadata": {},
   "outputs": [
    {
     "name": "stdout",
     "output_type": "stream",
     "text": [
      "17\n",
      "True\n"
     ]
    }
   ],
   "source": [
    "lst1 = ['m', 'i', 's', 'i', 'n', 't', 'e', 'r', 'p', 'r', 'e', 't', 'a', 't', 'i', 'o', 'n']\n",
    "print(len(lst1))\n",
    "lst2 = ['m', 'i', 's', 'r', 'e', 'p', 'r', 'e', 's', 'e', 'n', 't', 'a', 't', 'i', 'o', 'n']\n",
    "print(len(lst1)==len(lst2))"
   ]
  },
  {
   "cell_type": "code",
   "execution_count": 15,
   "metadata": {},
   "outputs": [
    {
     "data": {
      "text/plain": [
       "False"
      ]
     },
     "execution_count": 15,
     "metadata": {},
     "output_type": "execute_result"
    }
   ],
   "source": [
    "lst = ['f', 'l', 'o', 'c', 'c', 'i', 'n', 'a', 'u', 'c', 'i', 'n', 'i', 'h', 'i', 'l', 'i', 'p', 'i', 'l', 'i', 'f', 'i', 'c', 'a', 't', 'i', 'o', 'n']\n",
    "'e' in lst"
   ]
  },
  {
   "cell_type": "code",
   "execution_count": 9,
   "metadata": {},
   "outputs": [
    {
     "name": "stdout",
     "output_type": "stream",
     "text": [
      "True\n"
     ]
    }
   ],
   "source": [
    "lst1 = ['c', 'o', 'u', 'n', 't', 'e', 'r', 'r', 'e', 'v', 'o', 'l', 'u', 't', 'i', 'o', 'n']\n",
    "lst2 = ['c', 'o', 'u', 'n', 't', 'e', 'r']\n",
    "lst3 = ['r', 'e', 's', 'o', 'l', 'u', 't', 'i', 'o', 'n']\n",
    "print(len(lst1) == len((lst2 + lst3)))"
   ]
  },
  {
   "cell_type": "code",
   "execution_count": 13,
   "metadata": {},
   "outputs": [
    {
     "name": "stdout",
     "output_type": "stream",
     "text": [
      "6.5\n"
     ]
    }
   ],
   "source": [
    "a = 6\n",
    "b = 7\n",
    "c = (a+b)/2\n",
    "print(c)\n"
   ]
  },
  {
   "cell_type": "code",
   "execution_count": 6,
   "metadata": {},
   "outputs": [
    {
     "name": "stdout",
     "output_type": "stream",
     "text": [
      "John Fitzgerald Kennedy\n"
     ]
    }
   ],
   "source": [
    "first = \"John\"\n",
    "middle = \"Fitzgerald\"\n",
    "last = \"Kennedy\"\n",
    "fullName = first + ' ' + middle + ' ' + last\n",
    "print(fullName)"
   ]
  },
  {
   "cell_type": "code",
   "execution_count": 1,
   "metadata": {},
   "outputs": [
    {
     "name": "stdout",
     "output_type": "stream",
     "text": [
      "True\n",
      "False\n",
      "True\n",
      "False\n"
     ]
    }
   ],
   "source": [
    "import math\n",
    "r = 10\n",
    "x = 0\n",
    "y = 0\n",
    "\n",
    "a = math.sqrt((0-0)**2 + (0-0)**2)\n",
    "b = math.sqrt((10-0)**2 + (10-0)**2)\n",
    "c = math.sqrt((6-0)**2 + (6-0)**2)\n",
    "d = math.sqrt((7-0)**2 + (8-0)**2)\n",
    "\n",
    "print(a < r)\n",
    "print(b < r)\n",
    "print(c < r)\n",
    "print(d < r)"
   ]
  },
  {
   "cell_type": "code",
   "execution_count": null,
   "metadata": {},
   "outputs": [],
   "source": []
  }
 ],
 "metadata": {
  "kernelspec": {
   "display_name": "Python 3",
   "language": "python",
   "name": "python3"
  },
  "language_info": {
   "codemirror_mode": {
    "name": "ipython",
    "version": 3
   },
   "file_extension": ".py",
   "mimetype": "text/x-python",
   "name": "python",
   "nbconvert_exporter": "python",
   "pygments_lexer": "ipython3",
   "version": "3.7.3"
  }
 },
 "nbformat": 4,
 "nbformat_minor": 2
}
